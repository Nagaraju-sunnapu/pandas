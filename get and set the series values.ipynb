{
 "cells": [
  {
   "cell_type": "markdown",
   "id": "feb65427-9108-40f1-aae5-82a63ac79b1d",
   "metadata": {},
   "source": [
    "# get and set the values"
   ]
  },
  {
   "cell_type": "code",
   "execution_count": 2,
   "id": "32ac0d92-06ed-4214-bb1a-85cb6844822b",
   "metadata": {},
   "outputs": [
    {
     "name": "stdout",
     "output_type": "stream",
     "text": [
      "0       raju\n",
      "1     suresh\n",
      "2     chandu\n",
      "3       usha\n",
      "4    sravani\n",
      "5     sankar\n",
      "6    trinadh\n",
      "dtype: object\n"
     ]
    }
   ],
   "source": [
    "# creating the series with default indeces\n",
    "import numpy as np\n",
    "import pandas as pd\n",
    "names=pd.Series([\"raju\",\"suresh\",\"chandu\",\"usha\",\"sravani\",\"sankar\",\"trinadh\"])\n",
    "print(names)"
   ]
  },
  {
   "cell_type": "code",
   "execution_count": 4,
   "id": "0ae57c2f-e025-43c1-9d8c-d5c41cf0df97",
   "metadata": {},
   "outputs": [
    {
     "data": {
      "text/plain": [
       "'raju'"
      ]
     },
     "execution_count": 4,
     "metadata": {},
     "output_type": "execute_result"
    }
   ],
   "source": [
    "# get the values from the series object\n",
    "names[0]"
   ]
  },
  {
   "cell_type": "code",
   "execution_count": 6,
   "id": "5df312b7-4694-4f7f-b7be-d94425af8615",
   "metadata": {},
   "outputs": [
    {
     "data": {
      "text/plain": [
       "'sankar'"
      ]
     },
     "execution_count": 6,
     "metadata": {},
     "output_type": "execute_result"
    }
   ],
   "source": [
    "names[5]"
   ]
  },
  {
   "cell_type": "code",
   "execution_count": 10,
   "id": "b25e5d0a-97ba-4e7e-bf1d-5b31862b9cf5",
   "metadata": {},
   "outputs": [],
   "source": [
    "# names[-1] # series not suppotint for negative indexing-->KeyError: -1"
   ]
  },
  {
   "cell_type": "code",
   "execution_count": 12,
   "id": "30f6d95d-cd9a-4ee4-8318-33d5a3bb6f3d",
   "metadata": {},
   "outputs": [
    {
     "data": {
      "text/plain": [
       "'usha'"
      ]
     },
     "execution_count": 12,
     "metadata": {},
     "output_type": "execute_result"
    }
   ],
   "source": [
    "names[3]"
   ]
  },
  {
   "cell_type": "code",
   "execution_count": 14,
   "id": "cc385259-7e4e-4bc4-ac2a-02c552c9c622",
   "metadata": {},
   "outputs": [
    {
     "data": {
      "text/plain": [
       "0      raju\n",
       "1    suresh\n",
       "2    chandu\n",
       "dtype: object"
      ]
     },
     "execution_count": 14,
     "metadata": {},
     "output_type": "execute_result"
    }
   ],
   "source": [
    "names[0:3]"
   ]
  },
  {
   "cell_type": "code",
   "execution_count": 16,
   "id": "f5be8138-1409-45c1-b3ba-4b98c9743006",
   "metadata": {},
   "outputs": [
    {
     "data": {
      "text/plain": [
       "0       raju\n",
       "2     chandu\n",
       "4    sravani\n",
       "6    trinadh\n",
       "dtype: object"
      ]
     },
     "execution_count": 16,
     "metadata": {},
     "output_type": "execute_result"
    }
   ],
   "source": [
    "names[0::2]"
   ]
  },
  {
   "cell_type": "code",
   "execution_count": 35,
   "id": "be0f5cce-917a-42b1-995d-d0a69c47f49d",
   "metadata": {},
   "outputs": [
    {
     "data": {
      "text/plain": [
       "0     satya\n",
       "5    sankar\n",
       "3      usha\n",
       "dtype: object"
      ]
     },
     "execution_count": 35,
     "metadata": {},
     "output_type": "execute_result"
    }
   ],
   "source": [
    "names[[0,5,3]] # names[0,5,3]-->KeyError: 'key of type tuple not found and not a MultiIndex'"
   ]
  },
  {
   "cell_type": "code",
   "execution_count": 25,
   "id": "663e8ad6-4eab-4923-aaf7-27fd18b53202",
   "metadata": {},
   "outputs": [],
   "source": [
    "names[1]=\"naga\""
   ]
  },
  {
   "cell_type": "code",
   "execution_count": 27,
   "id": "67b12fe2-a4be-47e6-ad12-b045437ce81e",
   "metadata": {},
   "outputs": [
    {
     "name": "stdout",
     "output_type": "stream",
     "text": [
      "0       raju\n",
      "1       naga\n",
      "2     chandu\n",
      "3       usha\n",
      "4    sravani\n",
      "5     sankar\n",
      "6    trinadh\n",
      "dtype: object\n"
     ]
    }
   ],
   "source": [
    "print(names)"
   ]
  },
  {
   "cell_type": "code",
   "execution_count": 29,
   "id": "93f6e0c5-b116-4ef4-ac0d-2274c1a2e89e",
   "metadata": {},
   "outputs": [
    {
     "name": "stdout",
     "output_type": "stream",
     "text": [
      "0      satya\n",
      "1     janaki\n",
      "2       raju\n",
      "3       usha\n",
      "4    sravani\n",
      "5     sankar\n",
      "6    trinadh\n",
      "dtype: object\n"
     ]
    }
   ],
   "source": [
    "names[0:3]=[\"satya\",\"janaki\",\"raju\"]\n",
    "print(names)"
   ]
  },
  {
   "cell_type": "code",
   "execution_count": 33,
   "id": "84663410-4e5c-49e1-bbef-a2a80645d323",
   "metadata": {},
   "outputs": [
    {
     "name": "stdout",
     "output_type": "stream",
     "text": [
      "0       satya\n",
      "1      janaki\n",
      "2      mahesh\n",
      "3        usha\n",
      "4    varshini\n",
      "5      sankar\n",
      "6     trinadh\n",
      "dtype: object\n"
     ]
    }
   ],
   "source": [
    "names[[2,4]]=[\"mahesh\",\"varshini\"]\n",
    "print(names)"
   ]
  },
  {
   "cell_type": "code",
   "execution_count": 37,
   "id": "b170e0bf-c280-4f9a-817a-95df6fdc7ccf",
   "metadata": {},
   "outputs": [
    {
     "name": "stdout",
     "output_type": "stream",
     "text": [
      "1     john\n",
      "2    vicci\n",
      "3    sandy\n",
      "4     mike\n",
      "5    peter\n",
      "dtype: object\n"
     ]
    }
   ],
   "source": [
    "# creating the series with int labels\n",
    "s=pd.Series([\"john\",\"vicci\",\"sandy\",\"mike\",\"peter\"],index=(1,2,3,4,5))\n",
    "print(s)"
   ]
  },
  {
   "cell_type": "code",
   "execution_count": 43,
   "id": "7fbad560-d0af-4f1c-a3f8-a1192a19ad08",
   "metadata": {},
   "outputs": [],
   "source": [
    "# s[0] -->KeyError: 0 (we didn't access with default indecies)"
   ]
  },
  {
   "cell_type": "code",
   "execution_count": 45,
   "id": "5aaf6d7c-6607-43b7-8c75-a5629f046611",
   "metadata": {},
   "outputs": [
    {
     "data": {
      "text/plain": [
       "'john'"
      ]
     },
     "execution_count": 45,
     "metadata": {},
     "output_type": "execute_result"
    }
   ],
   "source": [
    "s[1]"
   ]
  },
  {
   "cell_type": "code",
   "execution_count": 47,
   "id": "fdbbeddd-86d8-45c7-b1ec-e1e1a16a4f4d",
   "metadata": {},
   "outputs": [
    {
     "data": {
      "text/plain": [
       "'peter'"
      ]
     },
     "execution_count": 47,
     "metadata": {},
     "output_type": "execute_result"
    }
   ],
   "source": [
    "s[5]"
   ]
  },
  {
   "cell_type": "code",
   "execution_count": 51,
   "id": "bc63187e-05f3-44be-863c-6f72f87cf3ec",
   "metadata": {},
   "outputs": [],
   "source": [
    "# s[6]-->KeyError: 6 (index value out of the range )"
   ]
  },
  {
   "cell_type": "code",
   "execution_count": 53,
   "id": "35052242-46da-4a41-81f0-b63ae2b55900",
   "metadata": {},
   "outputs": [
    {
     "data": {
      "text/plain": [
       "1     john\n",
       "2    vicci\n",
       "3    sandy\n",
       "4     mike\n",
       "5    peter\n",
       "dtype: object"
      ]
     },
     "execution_count": 53,
     "metadata": {},
     "output_type": "execute_result"
    }
   ],
   "source": [
    "s[::]"
   ]
  },
  {
   "cell_type": "code",
   "execution_count": 55,
   "id": "f431e6d5-6165-4ed1-9b42-c0164514c0c6",
   "metadata": {},
   "outputs": [
    {
     "data": {
      "text/plain": [
       "1     john\n",
       "2    vicci\n",
       "3    sandy\n",
       "4     mike\n",
       "dtype: object"
      ]
     },
     "execution_count": 55,
     "metadata": {},
     "output_type": "execute_result"
    }
   ],
   "source": [
    "s[:4]"
   ]
  },
  {
   "cell_type": "code",
   "execution_count": 59,
   "id": "89c072f5-10dc-4c56-a3b8-6328dc8345d1",
   "metadata": {},
   "outputs": [
    {
     "name": "stdout",
     "output_type": "stream",
     "text": [
      "1    lucky\n",
      "2    vicci\n",
      "3    sandy\n",
      "4     mike\n",
      "5    peter\n",
      "dtype: object\n"
     ]
    }
   ],
   "source": [
    "# set the values for the series object\n",
    "s[1]=\"lucky\"\n",
    "print(s)"
   ]
  },
  {
   "cell_type": "code",
   "execution_count": 61,
   "id": "4b9485c8-09ee-4455-865a-d43cf124c752",
   "metadata": {},
   "outputs": [
    {
     "name": "stdout",
     "output_type": "stream",
     "text": [
      "1    lucky\n",
      "2    vicci\n",
      "3    sandy\n",
      "4     mike\n",
      "5     syam\n",
      "dtype: object\n"
     ]
    }
   ],
   "source": [
    "s[5]=\"syam\"\n",
    "print(s)"
   ]
  },
  {
   "cell_type": "code",
   "execution_count": 79,
   "id": "69962b4c-112d-4825-b43c-c3820c227bba",
   "metadata": {},
   "outputs": [
    {
     "name": "stdout",
     "output_type": "stream",
     "text": [
      "1    lucky\n",
      "2    vicci\n",
      "3    roman\n",
      "4    kevin\n",
      "5     mady\n",
      "dtype: object\n"
     ]
    }
   ],
   "source": [
    "s[2:5]=[\"roman\",\"kevin\",\"mady\"]\n",
    "print(s)"
   ]
  },
  {
   "cell_type": "code",
   "execution_count": 81,
   "id": "1de4cd33-4928-4211-ac19-f52bfbcb2338",
   "metadata": {},
   "outputs": [
    {
     "name": "stdout",
     "output_type": "stream",
     "text": [
      "A     john\n",
      "B    vicci\n",
      "C    sandy\n",
      "D     mike\n",
      "E    peter\n",
      "dtype: object\n"
     ]
    }
   ],
   "source": [
    "# creating the series with str labels\n",
    "s=pd.Series([\"john\",\"vicci\",\"sandy\",\"mike\",\"peter\"],index=(\"A\",\"B\",\"C\",\"D\",\"E\"))\n",
    "print(s)"
   ]
  },
  {
   "cell_type": "code",
   "execution_count": 83,
   "id": "6194f08c-76d2-46b8-a164-09fe91be98b9",
   "metadata": {},
   "outputs": [
    {
     "data": {
      "text/plain": [
       "'john'"
      ]
     },
     "execution_count": 83,
     "metadata": {},
     "output_type": "execute_result"
    }
   ],
   "source": [
    "s[\"A\"]"
   ]
  },
  {
   "cell_type": "code",
   "execution_count": 85,
   "id": "c94a4557-91a2-4474-a81d-8e99e31751f8",
   "metadata": {},
   "outputs": [
    {
     "data": {
      "text/plain": [
       "'mike'"
      ]
     },
     "execution_count": 85,
     "metadata": {},
     "output_type": "execute_result"
    }
   ],
   "source": [
    "s[\"D\"]"
   ]
  },
  {
   "cell_type": "code",
   "execution_count": 87,
   "id": "3d8b3743-63f9-44ec-b88a-ab88e09f8c0c",
   "metadata": {},
   "outputs": [
    {
     "data": {
      "text/plain": [
       "A     john\n",
       "B    vicci\n",
       "dtype: object"
      ]
     },
     "execution_count": 87,
     "metadata": {},
     "output_type": "execute_result"
    }
   ],
   "source": [
    "s[\"A\":\"B\"]"
   ]
  },
  {
   "cell_type": "code",
   "execution_count": 89,
   "id": "6931fcb9-2418-41e7-a4c8-42e0268002ea",
   "metadata": {},
   "outputs": [
    {
     "name": "stdout",
     "output_type": "stream",
     "text": [
      "A      max\n",
      "B    jinni\n",
      "C    sandy\n",
      "D     mike\n",
      "E    peter\n",
      "dtype: object\n"
     ]
    }
   ],
   "source": [
    "s[\"A\":\"B\"]=[\"max\",\"jinni\"]\n",
    "print(s)"
   ]
  },
  {
   "cell_type": "code",
   "execution_count": 93,
   "id": "e42a0c64-d3e9-4bee-ae73-26d98334f13e",
   "metadata": {},
   "outputs": [
    {
     "name": "stderr",
     "output_type": "stream",
     "text": [
      "C:\\Users\\dell\\AppData\\Local\\Temp\\ipykernel_516\\3047773040.py:1: FutureWarning: Series.__getitem__ treating keys as positions is deprecated. In a future version, integer keys will always be treated as labels (consistent with DataFrame behavior). To access a value by position, use `ser.iloc[pos]`\n",
      "  s[0] # future warning is coming for this because we are accessing with default indecies\n"
     ]
    },
    {
     "data": {
      "text/plain": [
       "'max'"
      ]
     },
     "execution_count": 93,
     "metadata": {},
     "output_type": "execute_result"
    }
   ],
   "source": [
    "s[0] # future warning is coming for this because we are accessing with default indecies"
   ]
  },
  {
   "cell_type": "code",
   "execution_count": null,
   "id": "b2761357-f8ec-4d31-89ae-a2f4714606a1",
   "metadata": {},
   "outputs": [],
   "source": []
  }
 ],
 "metadata": {
  "kernelspec": {
   "display_name": "Python 3 (ipykernel)",
   "language": "python",
   "name": "python3"
  },
  "language_info": {
   "codemirror_mode": {
    "name": "ipython",
    "version": 3
   },
   "file_extension": ".py",
   "mimetype": "text/x-python",
   "name": "python",
   "nbconvert_exporter": "python",
   "pygments_lexer": "ipython3",
   "version": "3.12.4"
  }
 },
 "nbformat": 4,
 "nbformat_minor": 5
}
