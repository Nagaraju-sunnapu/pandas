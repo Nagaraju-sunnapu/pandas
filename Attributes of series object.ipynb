{
 "cells": [
  {
   "cell_type": "markdown",
   "id": "1ace1f72-8748-4034-92c1-b195ccac4579",
   "metadata": {},
   "source": [
    "# Attributes of series object "
   ]
  },
  {
   "cell_type": "markdown",
   "id": "1b7d33b9-249d-4d09-b1af-770b95a21183",
   "metadata": {},
   "source": [
    "# 1.index"
   ]
  },
  {
   "cell_type": "code",
   "execution_count": 6,
   "id": "dbcf80e1-99c9-45c9-bb9e-51b870a85969",
   "metadata": {},
   "outputs": [
    {
     "name": "stdout",
     "output_type": "stream",
     "text": [
      "content of the series\n",
      "0        ram\n",
      "1       sita\n",
      "2     laxman\n",
      "3    hunuman\n",
      "dtype: object\n"
     ]
    }
   ],
   "source": [
    "# creating an object of series \n",
    "import numpy as np\n",
    "import pandas as pd\n",
    "s=pd.Series([\"ram\",\"sita\",\"laxman\",\"hunuman\"])\n",
    "print(\"content of the series\")\n",
    "print(s)"
   ]
  },
  {
   "cell_type": "code",
   "execution_count": 10,
   "id": "e8481da5-a8fe-4e83-9e38-c6e964ec38da",
   "metadata": {},
   "outputs": [
    {
     "name": "stdout",
     "output_type": "stream",
     "text": [
      "0        ram\n",
      "1       sita\n",
      "2     laxman\n",
      "3    hunuman\n",
      "dtype: object\n",
      "++++++++++++++++++++++++++++++++++++++++++++++++++\n"
     ]
    },
    {
     "data": {
      "text/plain": [
       "RangeIndex(start=0, stop=4, step=1)"
      ]
     },
     "execution_count": 10,
     "metadata": {},
     "output_type": "execute_result"
    }
   ],
   "source": [
    "# attribute name:index-->gives the index name of the series object \n",
    "#syntax:seriesobject.index\n",
    "print(s)\n",
    "print(\"+\"*50)\n",
    "s.index"
   ]
  },
  {
   "cell_type": "code",
   "execution_count": 12,
   "id": "9fffdf52-95b0-4274-8da3-9b0278dfa64a",
   "metadata": {},
   "outputs": [
    {
     "name": "stdout",
     "output_type": "stream",
     "text": [
      "Index(['a', 'b', 'c', 'd'], dtype='object')\n"
     ]
    }
   ],
   "source": [
    "# rcreating the series object with labels\n",
    "s=pd.Series([\"ram\",\"sita\",\"laxman\",\"hunuman\"],index=[\"a\",\"b\",\"c\",\"d\"])\n",
    "print(s.index)"
   ]
  },
  {
   "cell_type": "code",
   "execution_count": 14,
   "id": "87abd793-4e12-4182-924d-7c158499213f",
   "metadata": {},
   "outputs": [
    {
     "name": "stdout",
     "output_type": "stream",
     "text": [
      "Index([1, 2, 3, 4], dtype='int64')\n"
     ]
    }
   ],
   "source": [
    "# rcreating the series object with labels\n",
    "s=pd.Series([\"ram\",\"sita\",\"laxman\",\"hunuman\"],index=[1,2,3,4])\n",
    "print(s.index)"
   ]
  },
  {
   "cell_type": "markdown",
   "id": "9a303e41-fed5-4422-be4e-08e901788c3e",
   "metadata": {},
   "source": [
    "# 2.name"
   ]
  },
  {
   "cell_type": "code",
   "execution_count": 17,
   "id": "3b952269-31a9-43ee-ab45-52286260dc3d",
   "metadata": {},
   "outputs": [
    {
     "name": "stdout",
     "output_type": "stream",
     "text": [
      "r     rossum\n",
      "t     travis\n",
      "k      kinni\n",
      "d     dennis\n",
      "j    jhunter\n",
      "Name: authors, dtype: object\n"
     ]
    }
   ],
   "source": [
    "#creating the series object with the list \n",
    "s=pd.Series([\"rossum\",\"travis\",\"kinni\",\"dennis\",\"jhunter\"],index=[\"r\",\"t\",\"k\",\"d\",\"j\"],name=\"authors\")\n",
    "print(s)"
   ]
  },
  {
   "cell_type": "code",
   "execution_count": 21,
   "id": "87261f24-7753-4d3e-b48b-ee9c814f47cc",
   "metadata": {},
   "outputs": [
    {
     "name": "stdout",
     "output_type": "stream",
     "text": [
      "r     rossum\n",
      "t     travis\n",
      "k      kinni\n",
      "d     dennis\n",
      "j    jhunter\n",
      "Name: authors, dtype: object\n",
      "--------------------------------------------------\n",
      "name of the series object= authors\n"
     ]
    }
   ],
   "source": [
    "# attribute name:name-->gives the name of the series\n",
    "# syntax:seriesobject.name\n",
    "print(s)\n",
    "print(\"-\"*50)\n",
    "print(\"name of the series object=\",s.name)"
   ]
  },
  {
   "cell_type": "code",
   "execution_count": 23,
   "id": "feef86ba-6906-4978-ab72-12748a90ee9a",
   "metadata": {},
   "outputs": [
    {
     "name": "stdout",
     "output_type": "stream",
     "text": [
      "r     rossum\n",
      "t     travis\n",
      "k      kinni\n",
      "d     dennis\n",
      "j    jhunter\n",
      "dtype: object\n",
      "-----------------------------\n",
      "name of the series obect = None\n"
     ]
    }
   ],
   "source": [
    "s=pd.Series([\"rossum\",\"travis\",\"kinni\",\"dennis\",\"jhunter\"],index=[\"r\",\"t\",\"k\",\"d\",\"j\"])\n",
    "print(s)\n",
    "print(\"-----------------------------\")\n",
    "print(\"name of the series obect =\",s.name)"
   ]
  },
  {
   "cell_type": "code",
   "execution_count": 25,
   "id": "48c5cd0b-7da2-4b00-9266-b89c7bcd7962",
   "metadata": {},
   "outputs": [],
   "source": [
    "# when we not giving any name to creating of the serirs.it's treated as None "
   ]
  },
  {
   "cell_type": "markdown",
   "id": "8ce3f65e-5234-4c71-a225-730a1a65c036",
   "metadata": {},
   "source": [
    "# 3.size"
   ]
  },
  {
   "cell_type": "code",
   "execution_count": 28,
   "id": "ceb47cdd-84cc-4299-b120-1d1a2ecba29a",
   "metadata": {},
   "outputs": [
    {
     "name": "stdout",
     "output_type": "stream",
     "text": [
      "r     rossum\n",
      "t     travis\n",
      "k      kinni\n",
      "d     dennis\n",
      "j    jhunter\n",
      "dtype: object\n",
      "---------------------------------------------\n",
      "5\n"
     ]
    }
   ],
   "source": [
    "# attribute name:size-->it is giving the total number of entires \n",
    "# syntax:seriesobject.size\n",
    "print(s)\n",
    "print(\"---------------------------------------------\")\n",
    "print(s.size)"
   ]
  },
  {
   "cell_type": "code",
   "execution_count": 36,
   "id": "60720678-5d18-414a-a6d7-591b23e8f41b",
   "metadata": {},
   "outputs": [
    {
     "name": "stdout",
     "output_type": "stream",
     "text": [
      "Series([], dtype: object)\n"
     ]
    }
   ],
   "source": [
    "# creating the empty series\n",
    "l=[]\n",
    "s1=pd.Series(l)\n",
    "print(s1)"
   ]
  },
  {
   "cell_type": "code",
   "execution_count": 40,
   "id": "f20de08d-0fc6-423c-a2d0-c883247e3ac2",
   "metadata": {},
   "outputs": [
    {
     "name": "stdout",
     "output_type": "stream",
     "text": [
      "Series([], dtype: object)\n",
      "-----------------------------------------\n",
      "0\n",
      "RangeIndex(start=0, stop=0, step=1)\n"
     ]
    }
   ],
   "source": [
    "print(s1)\n",
    "print(\"-----------------------------------------\")\n",
    "print(s1.size)\n",
    "print(s.index)"
   ]
  },
  {
   "cell_type": "markdown",
   "id": "94279b60-54d3-4021-a38f-08a081a8b4f1",
   "metadata": {},
   "source": [
    "# 4.shape"
   ]
  },
  {
   "cell_type": "code",
   "execution_count": 43,
   "id": "d11a8549-5782-4afe-ba37-b47ac6384209",
   "metadata": {},
   "outputs": [
    {
     "name": "stdout",
     "output_type": "stream",
     "text": [
      "r     rossum\n",
      "t     travis\n",
      "k      kinni\n",
      "d     dennis\n",
      "j    jhunter\n",
      "dtype: object\n",
      "-----------------------------------------\n",
      "shape of the series= (5,)\n"
     ]
    }
   ],
   "source": [
    "s=pd.Series([\"rossum\",\"travis\",\"kinni\",\"dennis\",\"jhunter\"],index=[\"r\",\"t\",\"k\",\"d\",\"j\"])\n",
    "print(s)\n",
    "print(\"-----------------------------------------\")\n",
    "print(\"shape of the series=\",s.shape)"
   ]
  },
  {
   "cell_type": "markdown",
   "id": "a7603867-fec2-42e4-a9d6-c499a21def85",
   "metadata": {},
   "source": [
    "# 5.values"
   ]
  },
  {
   "cell_type": "code",
   "execution_count": 46,
   "id": "6ce333e9-fa06-46ae-8c41-af667ea27116",
   "metadata": {},
   "outputs": [
    {
     "name": "stdout",
     "output_type": "stream",
     "text": [
      "r     rossum\n",
      "t     travis\n",
      "k      kinni\n",
      "d     dennis\n",
      "j    jhunter\n",
      "dtype: object\n",
      "==================================================\n",
      "['rossum' 'travis' 'kinni' 'dennis' 'jhunter']\n"
     ]
    }
   ],
   "source": [
    "print(s)\n",
    "print(\"=\"*50)\n",
    "print(s.values)"
   ]
  },
  {
   "cell_type": "markdown",
   "id": "4630341a-4f46-4366-9f30-f0ea4cbd3cbc",
   "metadata": {},
   "source": [
    "# 6.empty"
   ]
  },
  {
   "cell_type": "code",
   "execution_count": 49,
   "id": "f3cb727a-5836-43e8-bb51-557d085a2288",
   "metadata": {},
   "outputs": [
    {
     "name": "stdout",
     "output_type": "stream",
     "text": [
      "r     rossum\n",
      "t     travis\n",
      "k      kinni\n",
      "d     dennis\n",
      "j    jhunter\n",
      "dtype: object\n",
      "==================================================\n",
      "False\n"
     ]
    }
   ],
   "source": [
    "# attribute name:empty-->gives the boolen values(True when the serirs is empty,False when the series is Non-empty)\n",
    "#syntax:seriesobject.empty\n",
    "print(s)\n",
    "print(\"=\"*50)\n",
    "print(s.empty)"
   ]
  },
  {
   "cell_type": "code",
   "execution_count": 51,
   "id": "c25adbc3-168a-4962-8fec-ccb8acf35194",
   "metadata": {},
   "outputs": [
    {
     "name": "stdout",
     "output_type": "stream",
     "text": [
      "Series([], dtype: object)\n",
      "==================================================\n",
      "True\n"
     ]
    }
   ],
   "source": [
    "print(s1)\n",
    "print(\"=\"*50)\n",
    "print(s1.empty)"
   ]
  },
  {
   "cell_type": "code",
   "execution_count": null,
   "id": "6c03e49a-bc55-4004-81c3-7972dc36e0f4",
   "metadata": {},
   "outputs": [],
   "source": []
  }
 ],
 "metadata": {
  "kernelspec": {
   "display_name": "Python 3 (ipykernel)",
   "language": "python",
   "name": "python3"
  },
  "language_info": {
   "codemirror_mode": {
    "name": "ipython",
    "version": 3
   },
   "file_extension": ".py",
   "mimetype": "text/x-python",
   "name": "python",
   "nbconvert_exporter": "python",
   "pygments_lexer": "ipython3",
   "version": "3.12.4"
  }
 },
 "nbformat": 4,
 "nbformat_minor": 5
}
