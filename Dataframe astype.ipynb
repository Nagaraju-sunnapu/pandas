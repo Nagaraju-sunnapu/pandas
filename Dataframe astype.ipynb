{
 "cells": [
  {
   "cell_type": "code",
   "execution_count": 1,
   "id": "ffa456e1-aae9-4cb7-8fc4-1633b6bf6c22",
   "metadata": {},
   "outputs": [],
   "source": [
    "import numpy as np\n",
    "import pandas as pd"
   ]
  },
  {
   "cell_type": "code",
   "execution_count": 3,
   "id": "39fdce35-c76c-4420-a4c5-d851aaddd0f7",
   "metadata": {},
   "outputs": [],
   "source": [
    "# create dataframe from the dictionary"
   ]
  },
  {
   "cell_type": "code",
   "execution_count": 11,
   "id": "b8589de0-a02e-4f3f-b473-1f2dc04c01e0",
   "metadata": {},
   "outputs": [
    {
     "name": "stdout",
     "output_type": "stream",
     "text": [
      "     Fee Discount\n",
      "0  20000     1000\n",
      "1  25000     2300\n",
      "2  26000     1500\n"
     ]
    }
   ],
   "source": [
    "technologies={\n",
    "    \"Fee\":[\"20000\",\"25000\",\"26000\"],\n",
    "    \"Discount\":[\"1000\",\"2300\",\"1500\"]}\n",
    "df=pd.DataFrame(technologies)\n",
    "print(df)"
   ]
  },
  {
   "cell_type": "code",
   "execution_count": 13,
   "id": "bc531883-a3c7-46c1-8545-d429330bd79e",
   "metadata": {},
   "outputs": [
    {
     "data": {
      "text/plain": [
       "Fee         object\n",
       "Discount    object\n",
       "dtype: object"
      ]
     },
     "execution_count": 13,
     "metadata": {},
     "output_type": "execute_result"
    }
   ],
   "source": [
    "df.dtypes"
   ]
  },
  {
   "cell_type": "code",
   "execution_count": 15,
   "id": "761ded58-13b4-4810-8470-ce82c0ecd276",
   "metadata": {},
   "outputs": [],
   "source": [
    "# cast all columns into int type\n",
    "df=df.astype(np.int64)"
   ]
  },
  {
   "cell_type": "code",
   "execution_count": 17,
   "id": "73709290-b71d-444b-affa-fea6a63a9d1f",
   "metadata": {},
   "outputs": [
    {
     "name": "stdout",
     "output_type": "stream",
     "text": [
      "Fee         int64\n",
      "Discount    int64\n",
      "dtype: object\n"
     ]
    }
   ],
   "source": [
    "print(df.dtypes)"
   ]
  },
  {
   "cell_type": "code",
   "execution_count": 19,
   "id": "a801f8b4-bed9-44f5-ac25-740ad3842a7a",
   "metadata": {},
   "outputs": [],
   "source": [
    "df=df.astype(\"int32\")"
   ]
  },
  {
   "cell_type": "code",
   "execution_count": 21,
   "id": "627ec51d-7e06-43cf-8cbd-32aa17969c12",
   "metadata": {},
   "outputs": [
    {
     "name": "stdout",
     "output_type": "stream",
     "text": [
      "Fee         int32\n",
      "Discount    int32\n",
      "dtype: object\n"
     ]
    }
   ],
   "source": [
    "print(df.dtypes)"
   ]
  },
  {
   "cell_type": "code",
   "execution_count": 23,
   "id": "3609ffe5-8a78-4500-bcf2-9bbf7798aa25",
   "metadata": {},
   "outputs": [],
   "source": [
    "df=df.astype(\"int\")"
   ]
  },
  {
   "cell_type": "code",
   "execution_count": 25,
   "id": "b0b1ecbb-a57b-487e-ba47-911c50589762",
   "metadata": {},
   "outputs": [
    {
     "name": "stdout",
     "output_type": "stream",
     "text": [
      "Fee         int32\n",
      "Discount    int32\n",
      "dtype: object\n"
     ]
    }
   ],
   "source": [
    "print(df.dtypes)"
   ]
  },
  {
   "cell_type": "code",
   "execution_count": 27,
   "id": "9f5b04ac-53f1-4ee7-94a0-4fd0b9180917",
   "metadata": {},
   "outputs": [],
   "source": [
    "# cast all types into string type\n",
    "df=df.astype(\"string\")"
   ]
  },
  {
   "cell_type": "code",
   "execution_count": 29,
   "id": "6b7dc5a6-e4b1-4c9b-a498-49264e4d34bc",
   "metadata": {},
   "outputs": [
    {
     "data": {
      "text/plain": [
       "Fee         string[python]\n",
       "Discount    string[python]\n",
       "dtype: object"
      ]
     },
     "execution_count": 29,
     "metadata": {},
     "output_type": "execute_result"
    }
   ],
   "source": [
    "df.dtypes"
   ]
  },
  {
   "cell_type": "code",
   "execution_count": 31,
   "id": "3076abd2-934b-4b84-86ca-c8d855bd30a0",
   "metadata": {},
   "outputs": [
    {
     "data": {
      "text/plain": [
       "Fee         float64\n",
       "Discount    float64\n",
       "dtype: object"
      ]
     },
     "execution_count": 31,
     "metadata": {},
     "output_type": "execute_result"
    }
   ],
   "source": [
    "# cast all columns into float type\n",
    "df=df.astype(np.float64)\n",
    "df.dtypes"
   ]
  },
  {
   "cell_type": "code",
   "execution_count": 33,
   "id": "f0f6fc82-61a2-4eeb-974e-bf4518f38948",
   "metadata": {},
   "outputs": [],
   "source": [
    "df=df.astype(\"float_\")"
   ]
  },
  {
   "cell_type": "code",
   "execution_count": 35,
   "id": "69a0560f-ac78-4e04-a145-8165c34dca18",
   "metadata": {},
   "outputs": [
    {
     "data": {
      "text/plain": [
       "Fee         float64\n",
       "Discount    float64\n",
       "dtype: object"
      ]
     },
     "execution_count": 35,
     "metadata": {},
     "output_type": "execute_result"
    }
   ],
   "source": [
    "df.dtypes"
   ]
  },
  {
   "cell_type": "code",
   "execution_count": 37,
   "id": "cfcdaae6-0ea8-4a39-87de-7539af5fdbfa",
   "metadata": {},
   "outputs": [
    {
     "data": {
      "text/plain": [
       "Fee         float32\n",
       "Discount    float32\n",
       "dtype: object"
      ]
     },
     "execution_count": 37,
     "metadata": {},
     "output_type": "execute_result"
    }
   ],
   "source": [
    "df=df.astype(\"float32\")\n",
    "df.dtypes"
   ]
  },
  {
   "cell_type": "code",
   "execution_count": 39,
   "id": "1bf51cc5-3a5a-4bcc-889b-7c0b343fc133",
   "metadata": {},
   "outputs": [],
   "source": [
    "# change the specific column"
   ]
  },
  {
   "cell_type": "code",
   "execution_count": 41,
   "id": "276ff653-1275-46e7-8386-6e810251e656",
   "metadata": {},
   "outputs": [
    {
     "data": {
      "text/plain": [
       "0    20000.0\n",
       "1    25000.0\n",
       "2    26000.0\n",
       "Name: Fee, dtype: float32"
      ]
     },
     "execution_count": 41,
     "metadata": {},
     "output_type": "execute_result"
    }
   ],
   "source": [
    "df.Fee"
   ]
  },
  {
   "cell_type": "code",
   "execution_count": 43,
   "id": "7e383766-0ebe-41fb-86bf-4686f7e23e3c",
   "metadata": {},
   "outputs": [],
   "source": [
    "df.Fee=df[\"Fee\"].astype(\"int\")"
   ]
  },
  {
   "cell_type": "code",
   "execution_count": 47,
   "id": "86c27db9-2c02-42eb-8fc0-4923d82313b6",
   "metadata": {},
   "outputs": [
    {
     "data": {
      "text/plain": [
       "Fee           int32\n",
       "Discount    float32\n",
       "dtype: object"
      ]
     },
     "execution_count": 47,
     "metadata": {},
     "output_type": "execute_result"
    }
   ],
   "source": [
    "df.dtypes"
   ]
  },
  {
   "cell_type": "code",
   "execution_count": 51,
   "id": "6d0dd22a-102f-46db-b80c-ed6a42d239d2",
   "metadata": {},
   "outputs": [],
   "source": [
    "df[\"Fee\"]=df[\"Fee\"].astype(\"int64\")"
   ]
  },
  {
   "cell_type": "code",
   "execution_count": 53,
   "id": "0a459699-6eeb-4e9d-969f-ec7673361139",
   "metadata": {},
   "outputs": [
    {
     "data": {
      "text/plain": [
       "Fee           int64\n",
       "Discount    float32\n",
       "dtype: object"
      ]
     },
     "execution_count": 53,
     "metadata": {},
     "output_type": "execute_result"
    }
   ],
   "source": [
    "df.dtypes"
   ]
  },
  {
   "cell_type": "code",
   "execution_count": null,
   "id": "2fea6f9b-d5e4-49ce-b4ec-5677f4b46200",
   "metadata": {},
   "outputs": [],
   "source": []
  },
  {
   "cell_type": "code",
   "execution_count": 59,
   "id": "e6abfe2e-c664-41ef-a205-cfb3bc376582",
   "metadata": {},
   "outputs": [
    {
     "name": "stdout",
     "output_type": "stream",
     "text": [
      "   Courses    Fee Duration Discount\n",
      "0    Spark  20000   30days     1000\n",
      "1  pyspark  25000   40days     2300\n",
      "2  handoop  26000   35days     1500\n"
     ]
    }
   ],
   "source": [
    "# taking the another dataframe \n",
    "technologies={\n",
    "    \"Courses\":[\"Spark\",\"pyspark\",\"handoop\"],\n",
    "    \"Fee\":[\"20000\",\"25000\",\"26000\"],\n",
    "    \"Duration\":[\"30days\",\"40days\",\"35days\"],\n",
    "    \"Discount\":[\"1000\",\"2300\",\"1500\"]}\n",
    "df=pd.DataFrame(technologies)\n",
    "print(df)"
   ]
  },
  {
   "cell_type": "code",
   "execution_count": 63,
   "id": "1a05a2ff-00ba-4991-888c-529687423a18",
   "metadata": {},
   "outputs": [
    {
     "data": {
      "text/plain": [
       "Courses     object\n",
       "Fee         object\n",
       "Duration    object\n",
       "Discount    object\n",
       "dtype: object"
      ]
     },
     "execution_count": 63,
     "metadata": {},
     "output_type": "execute_result"
    }
   ],
   "source": [
    "df.dtypes"
   ]
  },
  {
   "cell_type": "code",
   "execution_count": 65,
   "id": "0b1c4ebd-69e6-49de-8f98-2bedc2239b1b",
   "metadata": {},
   "outputs": [],
   "source": [
    "# chane the dtype of the multiple columns by using the dict\n",
    "df2=df.astype({\"Courses\":\"string\",\"Fee\":\"int\",\"Discount\":\"float\"})"
   ]
  },
  {
   "cell_type": "code",
   "execution_count": 67,
   "id": "6d465709-5c41-48eb-8745-12d3afe98906",
   "metadata": {},
   "outputs": [
    {
     "data": {
      "text/html": [
       "<div>\n",
       "<style scoped>\n",
       "    .dataframe tbody tr th:only-of-type {\n",
       "        vertical-align: middle;\n",
       "    }\n",
       "\n",
       "    .dataframe tbody tr th {\n",
       "        vertical-align: top;\n",
       "    }\n",
       "\n",
       "    .dataframe thead th {\n",
       "        text-align: right;\n",
       "    }\n",
       "</style>\n",
       "<table border=\"1\" class=\"dataframe\">\n",
       "  <thead>\n",
       "    <tr style=\"text-align: right;\">\n",
       "      <th></th>\n",
       "      <th>Courses</th>\n",
       "      <th>Fee</th>\n",
       "      <th>Duration</th>\n",
       "      <th>Discount</th>\n",
       "    </tr>\n",
       "  </thead>\n",
       "  <tbody>\n",
       "    <tr>\n",
       "      <th>0</th>\n",
       "      <td>Spark</td>\n",
       "      <td>20000</td>\n",
       "      <td>30days</td>\n",
       "      <td>1000.0</td>\n",
       "    </tr>\n",
       "    <tr>\n",
       "      <th>1</th>\n",
       "      <td>pyspark</td>\n",
       "      <td>25000</td>\n",
       "      <td>40days</td>\n",
       "      <td>2300.0</td>\n",
       "    </tr>\n",
       "    <tr>\n",
       "      <th>2</th>\n",
       "      <td>handoop</td>\n",
       "      <td>26000</td>\n",
       "      <td>35days</td>\n",
       "      <td>1500.0</td>\n",
       "    </tr>\n",
       "  </tbody>\n",
       "</table>\n",
       "</div>"
      ],
      "text/plain": [
       "   Courses    Fee Duration  Discount\n",
       "0    Spark  20000   30days    1000.0\n",
       "1  pyspark  25000   40days    2300.0\n",
       "2  handoop  26000   35days    1500.0"
      ]
     },
     "execution_count": 67,
     "metadata": {},
     "output_type": "execute_result"
    }
   ],
   "source": [
    "df2"
   ]
  },
  {
   "cell_type": "code",
   "execution_count": 71,
   "id": "80c03246-a370-4814-a89a-bdd47bb5f6d6",
   "metadata": {},
   "outputs": [
    {
     "data": {
      "text/plain": [
       "Courses     string[python]\n",
       "Fee                  int32\n",
       "Duration            object\n",
       "Discount           float64\n",
       "dtype: object"
      ]
     },
     "execution_count": 71,
     "metadata": {},
     "output_type": "execute_result"
    }
   ],
   "source": [
    "df2.dtypes"
   ]
  },
  {
   "cell_type": "code",
   "execution_count": 73,
   "id": "66398f7a-de5f-4f00-b401-9056b83c8d48",
   "metadata": {},
   "outputs": [],
   "source": [
    "# remove the days word from the duration\n",
    "df2[\"Duration\"]=df2[\"Duration\"].astype(\"string\")"
   ]
  },
  {
   "cell_type": "code",
   "execution_count": 77,
   "id": "83be16f3-cfb7-423a-9ec2-45154d35193e",
   "metadata": {},
   "outputs": [
    {
     "data": {
      "text/plain": [
       "Courses     string[python]\n",
       "Fee                  int32\n",
       "Duration    string[python]\n",
       "Discount           float64\n",
       "dtype: object"
      ]
     },
     "execution_count": 77,
     "metadata": {},
     "output_type": "execute_result"
    }
   ],
   "source": [
    "df2.dtypes"
   ]
  },
  {
   "cell_type": "code",
   "execution_count": 85,
   "id": "73d3e5af-09cc-45b5-94a4-4673cf926d6f",
   "metadata": {},
   "outputs": [],
   "source": [
    "df2[\"Duration\"]=[val[0:2] for val in df2[\"Duration\"].values]"
   ]
  },
  {
   "cell_type": "code",
   "execution_count": 87,
   "id": "82e5b82f-b2d0-4884-9798-e36c96ddefe2",
   "metadata": {},
   "outputs": [
    {
     "data": {
      "text/html": [
       "<div>\n",
       "<style scoped>\n",
       "    .dataframe tbody tr th:only-of-type {\n",
       "        vertical-align: middle;\n",
       "    }\n",
       "\n",
       "    .dataframe tbody tr th {\n",
       "        vertical-align: top;\n",
       "    }\n",
       "\n",
       "    .dataframe thead th {\n",
       "        text-align: right;\n",
       "    }\n",
       "</style>\n",
       "<table border=\"1\" class=\"dataframe\">\n",
       "  <thead>\n",
       "    <tr style=\"text-align: right;\">\n",
       "      <th></th>\n",
       "      <th>Courses</th>\n",
       "      <th>Fee</th>\n",
       "      <th>Duration</th>\n",
       "      <th>Discount</th>\n",
       "    </tr>\n",
       "  </thead>\n",
       "  <tbody>\n",
       "    <tr>\n",
       "      <th>0</th>\n",
       "      <td>Spark</td>\n",
       "      <td>20000</td>\n",
       "      <td>30</td>\n",
       "      <td>1000.0</td>\n",
       "    </tr>\n",
       "    <tr>\n",
       "      <th>1</th>\n",
       "      <td>pyspark</td>\n",
       "      <td>25000</td>\n",
       "      <td>40</td>\n",
       "      <td>2300.0</td>\n",
       "    </tr>\n",
       "    <tr>\n",
       "      <th>2</th>\n",
       "      <td>handoop</td>\n",
       "      <td>26000</td>\n",
       "      <td>35</td>\n",
       "      <td>1500.0</td>\n",
       "    </tr>\n",
       "  </tbody>\n",
       "</table>\n",
       "</div>"
      ],
      "text/plain": [
       "   Courses    Fee Duration  Discount\n",
       "0    Spark  20000       30    1000.0\n",
       "1  pyspark  25000       40    2300.0\n",
       "2  handoop  26000       35    1500.0"
      ]
     },
     "execution_count": 87,
     "metadata": {},
     "output_type": "execute_result"
    }
   ],
   "source": [
    "df2"
   ]
  },
  {
   "cell_type": "code",
   "execution_count": 89,
   "id": "a1c3553a-50fc-4c34-b9eb-94a224389188",
   "metadata": {},
   "outputs": [
    {
     "data": {
      "text/plain": [
       "Courses     string[python]\n",
       "Fee                  int32\n",
       "Duration            object\n",
       "Discount           float64\n",
       "dtype: object"
      ]
     },
     "execution_count": 89,
     "metadata": {},
     "output_type": "execute_result"
    }
   ],
   "source": [
    "df2.dtypes"
   ]
  },
  {
   "cell_type": "code",
   "execution_count": 91,
   "id": "179c354e-68ac-4a3a-bdcf-f597c5497b9f",
   "metadata": {},
   "outputs": [],
   "source": [
    "df2[\"Duration\"]=df[\"Duration\"].astype(\"int\")"
   ]
  },
  {
   "cell_type": "code",
   "execution_count": 93,
   "id": "db18d93b-8b32-49dd-847a-4eaf63ce2ad2",
   "metadata": {},
   "outputs": [
    {
     "data": {
      "text/plain": [
       "Courses     string[python]\n",
       "Fee                  int32\n",
       "Duration             int32\n",
       "Discount           float64\n",
       "dtype: object"
      ]
     },
     "execution_count": 93,
     "metadata": {},
     "output_type": "execute_result"
    }
   ],
   "source": [
    "df2.dtypes"
   ]
  },
  {
   "cell_type": "code",
   "execution_count": null,
   "id": "fe882e51-0c73-4c60-825c-439b4967caa6",
   "metadata": {},
   "outputs": [],
   "source": []
  }
 ],
 "metadata": {
  "kernelspec": {
   "display_name": "Python 3 (ipykernel)",
   "language": "python",
   "name": "python3"
  },
  "language_info": {
   "codemirror_mode": {
    "name": "ipython",
    "version": 3
   },
   "file_extension": ".py",
   "mimetype": "text/x-python",
   "name": "python",
   "nbconvert_exporter": "python",
   "pygments_lexer": "ipython3",
   "version": "3.12.4"
  }
 },
 "nbformat": 4,
 "nbformat_minor": 5
}
