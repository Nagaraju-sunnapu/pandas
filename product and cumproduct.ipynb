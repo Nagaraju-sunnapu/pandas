{
 "cells": [
  {
   "cell_type": "markdown",
   "id": "e3f11559-0f71-4766-a723-108f1cb16615",
   "metadata": {},
   "source": [
    "# product and cumproduct"
   ]
  },
  {
   "cell_type": "code",
   "execution_count": 2,
   "id": "9c70eb2a-e5a1-4db9-a3b2-edc847e2b153",
   "metadata": {},
   "outputs": [
    {
     "name": "stdout",
     "output_type": "stream",
     "text": [
      "0    2\n",
      "1    5\n",
      "2    3\n",
      "3    1\n",
      "4    6\n",
      "dtype: int64\n"
     ]
    }
   ],
   "source": [
    "import numpy as np\n",
    "import pandas as pd\n",
    "s=pd.Series([2,5,3,1,6])\n",
    "print(s)"
   ]
  },
  {
   "cell_type": "code",
   "execution_count": 4,
   "id": "9fa210be-5346-405f-b9eb-70de3a111fe1",
   "metadata": {},
   "outputs": [
    {
     "data": {
      "text/plain": [
       "180"
      ]
     },
     "execution_count": 4,
     "metadata": {},
     "output_type": "execute_result"
    }
   ],
   "source": [
    "s.product()"
   ]
  },
  {
   "cell_type": "code",
   "execution_count": 6,
   "id": "0411dac5-2a10-4954-b13c-9c0b839b94b4",
   "metadata": {},
   "outputs": [
    {
     "data": {
      "text/plain": [
       "0      2\n",
       "1     10\n",
       "2     30\n",
       "3     30\n",
       "4    180\n",
       "dtype: int64"
      ]
     },
     "execution_count": 6,
     "metadata": {},
     "output_type": "execute_result"
    }
   ],
   "source": [
    "s.cumprod()"
   ]
  },
  {
   "cell_type": "code",
   "execution_count": 12,
   "id": "05f74b0d-1d83-48f4-82bd-26ee3736d545",
   "metadata": {},
   "outputs": [
    {
     "name": "stdout",
     "output_type": "stream",
     "text": [
      "0    2.0\n",
      "1    5.0\n",
      "2    3.0\n",
      "3    1.0\n",
      "4    NaN\n",
      "5    6.0\n",
      "dtype: float64\n"
     ]
    }
   ],
   "source": [
    "s=pd.Series([2,5,3,1,np.NaN,6])\n",
    "print(s)"
   ]
  },
  {
   "cell_type": "code",
   "execution_count": 14,
   "id": "0830f7e7-3b24-4720-89da-842f90c21508",
   "metadata": {},
   "outputs": [
    {
     "data": {
      "text/plain": [
       "180.0"
      ]
     },
     "execution_count": 14,
     "metadata": {},
     "output_type": "execute_result"
    }
   ],
   "source": [
    "s.product()"
   ]
  },
  {
   "cell_type": "code",
   "execution_count": 16,
   "id": "d2d22841-6f33-4752-9348-147aac514355",
   "metadata": {},
   "outputs": [
    {
     "data": {
      "text/plain": [
       "0      2.0\n",
       "1     10.0\n",
       "2     30.0\n",
       "3     30.0\n",
       "4      NaN\n",
       "5    180.0\n",
       "dtype: float64"
      ]
     },
     "execution_count": 16,
     "metadata": {},
     "output_type": "execute_result"
    }
   ],
   "source": [
    "s.cumprod()"
   ]
  },
  {
   "cell_type": "code",
   "execution_count": 18,
   "id": "3a1d0516-4590-4966-a76d-a6c9f049ab73",
   "metadata": {},
   "outputs": [
    {
     "name": "stdout",
     "output_type": "stream",
     "text": [
      "values of series\n",
      "0    2\n",
      "1    5\n",
      "2    3\n",
      "3    1\n",
      "4    5\n",
      "5    2\n",
      "6    3\n",
      "7    5\n",
      "8    4\n",
      "dtype: int64\n",
      "max elememnt= 5\n",
      "min element= 1\n",
      "mean element= 3.3333333333333335\n",
      "median element= 3.0\n",
      "std of element= 1.5\n",
      "product of element= 18000\n"
     ]
    }
   ],
   "source": [
    "s=pd.Series([2,5,3,1,5,2,3,5,4])\n",
    "print(\"values of series\")\n",
    "print(s)\n",
    "print(\"max elememnt=\",s.max())\n",
    "print(\"min element=\",s.min())\n",
    "print(\"mean element=\",s.mean())\n",
    "print(\"median element=\",s.median())\n",
    "print(\"std of element=\",s.std())\n",
    "print(\"product of element=\",s.product())"
   ]
  },
  {
   "cell_type": "code",
   "execution_count": 20,
   "id": "43ebc160-f1de-4c21-9608-a0c971f8d5d9",
   "metadata": {},
   "outputs": [
    {
     "name": "stdout",
     "output_type": "stream",
     "text": [
      "values of series\n",
      "0    2\n",
      "1    5\n",
      "2    3\n",
      "3    1\n",
      "4    5\n",
      "5    2\n",
      "6    3\n",
      "7    5\n",
      "8    4\n",
      "dtype: int64\n",
      "-----------------------------------\n"
     ]
    },
    {
     "data": {
      "text/plain": [
       "max            5.000000\n",
       "min            1.000000\n",
       "mean           3.333333\n",
       "median         3.000000\n",
       "sum           30.000000\n",
       "std            1.500000\n",
       "product    18000.000000\n",
       "dtype: float64"
      ]
     },
     "execution_count": 20,
     "metadata": {},
     "output_type": "execute_result"
    }
   ],
   "source": [
    "s=pd.Series([2,5,3,1,5,2,3,5,4])\n",
    "print(\"values of series\")\n",
    "print(s)\n",
    "print(\"-----------------------------------\")\n",
    "s.agg([\"max\",\"min\",\"mean\",\"median\",\"sum\",\"std\",\"product\"])"
   ]
  },
  {
   "cell_type": "code",
   "execution_count": null,
   "id": "65cedd9b-75d0-4c56-946f-7e14341d256c",
   "metadata": {},
   "outputs": [],
   "source": []
  }
 ],
 "metadata": {
  "kernelspec": {
   "display_name": "Python 3 (ipykernel)",
   "language": "python",
   "name": "python3"
  },
  "language_info": {
   "codemirror_mode": {
    "name": "ipython",
    "version": 3
   },
   "file_extension": ".py",
   "mimetype": "text/x-python",
   "name": "python",
   "nbconvert_exporter": "python",
   "pygments_lexer": "ipython3",
   "version": "3.12.4"
  }
 },
 "nbformat": 4,
 "nbformat_minor": 5
}
