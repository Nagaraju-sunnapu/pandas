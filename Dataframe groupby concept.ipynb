{
 "cells": [
  {
   "cell_type": "code",
   "execution_count": 1,
   "id": "9346b20b-00eb-46f2-bbe7-c6fc1d2d3559",
   "metadata": {},
   "outputs": [],
   "source": [
    "import pandas as pd"
   ]
  },
  {
   "cell_type": "code",
   "execution_count": 3,
   "id": "bcd673cc-9d55-4434-b038-1fb95cf14ab0",
   "metadata": {},
   "outputs": [
    {
     "name": "stdout",
     "output_type": "stream",
     "text": [
      "    CID        NAME STATE DSG\n",
      "0   100    VISHNAVI    TS  SE\n",
      "1   200     MANJULA    AP  SE\n",
      "2   300     BHUMIKA    TS  TL\n",
      "3   400  LAXIMIDEVI  BANG  TL\n",
      "4   500       SWATI    AP  PM\n",
      "5   600     SHAKSHI  BANG  PM\n",
      "6   700    BHARGAVI    TS  SE\n",
      "7   800       UDAYA    AP  PM\n",
      "8   900       SWETA  BANG  SE\n",
      "9   750      ANJALI    AP  TL\n",
      "10  650    JAYASREE  BANG  PM\n",
      "11  550     SIRISHA    AP  HR\n",
      "12  450     MADHAVI    TS  HR\n",
      "13  350      AKHILA    AP  HR\n",
      "14  150       RADHA  BANG  TL\n",
      "15  950     MOUNIKA    AP  HR\n",
      "16  125     FARHANA    TS  TL\n",
      "17  185      JHANSI    AP  TL\n"
     ]
    }
   ],
   "source": [
    "# read the data from the csv file \n",
    "df=pd.read_csv(\"C:\\\\Users\\\\dell\\\\pandas\\\\employee_data.csv\")\n",
    "print(df)"
   ]
  },
  {
   "cell_type": "code",
   "execution_count": 7,
   "id": "86aa0181-aa97-4651-bb9b-0f487c0d6b1b",
   "metadata": {},
   "outputs": [
    {
     "name": "stdout",
     "output_type": "stream",
     "text": [
      "<class 'pandas.core.groupby.generic.DataFrameGroupBy'>\n",
      "<pandas.core.groupby.generic.DataFrameGroupBy object at 0x000002360B242F90>\n"
     ]
    }
   ],
   "source": [
    "gby=df.groupby(\"STATE\")\n",
    "print(type(gby))\n",
    "print(gby)"
   ]
  },
  {
   "cell_type": "code",
   "execution_count": 9,
   "id": "8037a548-bc80-41ed-bc9a-0a2a7400f069",
   "metadata": {},
   "outputs": [
    {
     "name": "stdout",
     "output_type": "stream",
     "text": [
      "**************************************************\n",
      "group name=AP\n",
      "**************************************************\n",
      "    CID     NAME STATE DSG\n",
      "1   200  MANJULA    AP  SE\n",
      "4   500    SWATI    AP  PM\n",
      "7   800    UDAYA    AP  PM\n",
      "9   750   ANJALI    AP  TL\n",
      "11  550  SIRISHA    AP  HR\n",
      "13  350   AKHILA    AP  HR\n",
      "15  950  MOUNIKA    AP  HR\n",
      "17  185   JHANSI    AP  TL\n",
      "**************************************************\n",
      "**************************************************\n",
      "group name=BANG\n",
      "**************************************************\n",
      "    CID        NAME STATE DSG\n",
      "3   400  LAXIMIDEVI  BANG  TL\n",
      "5   600     SHAKSHI  BANG  PM\n",
      "8   900       SWETA  BANG  SE\n",
      "10  650    JAYASREE  BANG  PM\n",
      "14  150       RADHA  BANG  TL\n",
      "**************************************************\n",
      "**************************************************\n",
      "group name=TS\n",
      "**************************************************\n",
      "    CID      NAME STATE DSG\n",
      "0   100  VISHNAVI    TS  SE\n",
      "2   300   BHUMIKA    TS  TL\n",
      "6   700  BHARGAVI    TS  SE\n",
      "12  450   MADHAVI    TS  HR\n",
      "16  125   FARHANA    TS  TL\n",
      "**************************************************\n"
     ]
    }
   ],
   "source": [
    "# get the group name and it details\n",
    "for groupname,grouprecords in gby:\n",
    "    print(\"*\"*50)\n",
    "    print(\"group name={}\".format(groupname))\n",
    "    print(\"*\"*50)\n",
    "    print(grouprecords)\n",
    "    print(\"*\"*50)"
   ]
  },
  {
   "cell_type": "code",
   "execution_count": 11,
   "id": "2e4c0271-bab8-453d-85d9-fceb37ff628a",
   "metadata": {},
   "outputs": [
    {
     "data": {
      "text/html": [
       "<div>\n",
       "<style scoped>\n",
       "    .dataframe tbody tr th:only-of-type {\n",
       "        vertical-align: middle;\n",
       "    }\n",
       "\n",
       "    .dataframe tbody tr th {\n",
       "        vertical-align: top;\n",
       "    }\n",
       "\n",
       "    .dataframe thead th {\n",
       "        text-align: right;\n",
       "    }\n",
       "</style>\n",
       "<table border=\"1\" class=\"dataframe\">\n",
       "  <thead>\n",
       "    <tr style=\"text-align: right;\">\n",
       "      <th></th>\n",
       "      <th>CID</th>\n",
       "      <th>NAME</th>\n",
       "      <th>DSG</th>\n",
       "    </tr>\n",
       "    <tr>\n",
       "      <th>STATE</th>\n",
       "      <th></th>\n",
       "      <th></th>\n",
       "      <th></th>\n",
       "    </tr>\n",
       "  </thead>\n",
       "  <tbody>\n",
       "    <tr>\n",
       "      <th>AP</th>\n",
       "      <td>200</td>\n",
       "      <td>MANJULA</td>\n",
       "      <td>SE</td>\n",
       "    </tr>\n",
       "    <tr>\n",
       "      <th>BANG</th>\n",
       "      <td>400</td>\n",
       "      <td>LAXIMIDEVI</td>\n",
       "      <td>TL</td>\n",
       "    </tr>\n",
       "    <tr>\n",
       "      <th>TS</th>\n",
       "      <td>100</td>\n",
       "      <td>VISHNAVI</td>\n",
       "      <td>SE</td>\n",
       "    </tr>\n",
       "  </tbody>\n",
       "</table>\n",
       "</div>"
      ],
      "text/plain": [
       "       CID        NAME DSG\n",
       "STATE                     \n",
       "AP     200     MANJULA  SE\n",
       "BANG   400  LAXIMIDEVI  TL\n",
       "TS     100    VISHNAVI  SE"
      ]
     },
     "execution_count": 11,
     "metadata": {},
     "output_type": "execute_result"
    }
   ],
   "source": [
    "# get the first record from the every grou\n",
    "gby.first()"
   ]
  },
  {
   "cell_type": "code",
   "execution_count": 13,
   "id": "1b2d1fd8-76de-4bd8-8da3-ecf7d8fa9ef7",
   "metadata": {},
   "outputs": [
    {
     "data": {
      "text/html": [
       "<div>\n",
       "<style scoped>\n",
       "    .dataframe tbody tr th:only-of-type {\n",
       "        vertical-align: middle;\n",
       "    }\n",
       "\n",
       "    .dataframe tbody tr th {\n",
       "        vertical-align: top;\n",
       "    }\n",
       "\n",
       "    .dataframe thead th {\n",
       "        text-align: right;\n",
       "    }\n",
       "</style>\n",
       "<table border=\"1\" class=\"dataframe\">\n",
       "  <thead>\n",
       "    <tr style=\"text-align: right;\">\n",
       "      <th></th>\n",
       "      <th>CID</th>\n",
       "      <th>NAME</th>\n",
       "      <th>DSG</th>\n",
       "    </tr>\n",
       "    <tr>\n",
       "      <th>STATE</th>\n",
       "      <th></th>\n",
       "      <th></th>\n",
       "      <th></th>\n",
       "    </tr>\n",
       "  </thead>\n",
       "  <tbody>\n",
       "    <tr>\n",
       "      <th>AP</th>\n",
       "      <td>185</td>\n",
       "      <td>JHANSI</td>\n",
       "      <td>TL</td>\n",
       "    </tr>\n",
       "    <tr>\n",
       "      <th>BANG</th>\n",
       "      <td>150</td>\n",
       "      <td>RADHA</td>\n",
       "      <td>TL</td>\n",
       "    </tr>\n",
       "    <tr>\n",
       "      <th>TS</th>\n",
       "      <td>125</td>\n",
       "      <td>FARHANA</td>\n",
       "      <td>TL</td>\n",
       "    </tr>\n",
       "  </tbody>\n",
       "</table>\n",
       "</div>"
      ],
      "text/plain": [
       "       CID     NAME DSG\n",
       "STATE                  \n",
       "AP     185   JHANSI  TL\n",
       "BANG   150    RADHA  TL\n",
       "TS     125  FARHANA  TL"
      ]
     },
     "execution_count": 13,
     "metadata": {},
     "output_type": "execute_result"
    }
   ],
   "source": [
    "# get the last record from every group\n",
    "gby.last()"
   ]
  },
  {
   "cell_type": "code",
   "execution_count": 15,
   "id": "091da31f-9dc0-498c-be0d-2f241fac9826",
   "metadata": {},
   "outputs": [
    {
     "data": {
      "text/html": [
       "<div>\n",
       "<style scoped>\n",
       "    .dataframe tbody tr th:only-of-type {\n",
       "        vertical-align: middle;\n",
       "    }\n",
       "\n",
       "    .dataframe tbody tr th {\n",
       "        vertical-align: top;\n",
       "    }\n",
       "\n",
       "    .dataframe thead th {\n",
       "        text-align: right;\n",
       "    }\n",
       "</style>\n",
       "<table border=\"1\" class=\"dataframe\">\n",
       "  <thead>\n",
       "    <tr style=\"text-align: right;\">\n",
       "      <th></th>\n",
       "      <th>CID</th>\n",
       "      <th>NAME</th>\n",
       "      <th>STATE</th>\n",
       "      <th>DSG</th>\n",
       "    </tr>\n",
       "  </thead>\n",
       "  <tbody>\n",
       "    <tr>\n",
       "      <th>6</th>\n",
       "      <td>700</td>\n",
       "      <td>BHARGAVI</td>\n",
       "      <td>TS</td>\n",
       "      <td>SE</td>\n",
       "    </tr>\n",
       "    <tr>\n",
       "      <th>7</th>\n",
       "      <td>800</td>\n",
       "      <td>UDAYA</td>\n",
       "      <td>AP</td>\n",
       "      <td>PM</td>\n",
       "    </tr>\n",
       "    <tr>\n",
       "      <th>8</th>\n",
       "      <td>900</td>\n",
       "      <td>SWETA</td>\n",
       "      <td>BANG</td>\n",
       "      <td>SE</td>\n",
       "    </tr>\n",
       "  </tbody>\n",
       "</table>\n",
       "</div>"
      ],
      "text/plain": [
       "   CID      NAME STATE DSG\n",
       "6  700  BHARGAVI    TS  SE\n",
       "7  800     UDAYA    AP  PM\n",
       "8  900     SWETA  BANG  SE"
      ]
     },
     "execution_count": 15,
     "metadata": {},
     "output_type": "execute_result"
    }
   ],
   "source": [
    "# get the third record from the every group\n",
    "gby.nth(2)"
   ]
  },
  {
   "cell_type": "code",
   "execution_count": 17,
   "id": "2ccc2718-8560-4cc8-aab7-9bd9cc359b5c",
   "metadata": {},
   "outputs": [
    {
     "data": {
      "text/plain": [
       "STATE\n",
       "AP      8\n",
       "BANG    5\n",
       "TS      5\n",
       "dtype: int64"
      ]
     },
     "execution_count": 17,
     "metadata": {},
     "output_type": "execute_result"
    }
   ],
   "source": [
    "# get the size the dataframe groups\n",
    "gby.size()"
   ]
  },
  {
   "cell_type": "code",
   "execution_count": 19,
   "id": "75bdb668-f150-4960-a5da-bd829d64f141",
   "metadata": {},
   "outputs": [
    {
     "data": {
      "text/plain": [
       "3"
      ]
     },
     "execution_count": 19,
     "metadata": {},
     "output_type": "execute_result"
    }
   ],
   "source": [
    "len(gby)"
   ]
  },
  {
   "cell_type": "code",
   "execution_count": 21,
   "id": "2f88bc9e-d950-4e05-a91e-cbed4dd64682",
   "metadata": {},
   "outputs": [],
   "source": [
    "# it is giving the number of groups "
   ]
  },
  {
   "cell_type": "code",
   "execution_count": 25,
   "id": "134de31c-0060-4424-a122-b7a4e45eef2c",
   "metadata": {},
   "outputs": [
    {
     "name": "stdout",
     "output_type": "stream",
     "text": [
      "**************************************************\n",
      "Group Name= AP\n",
      "**************************************************\n",
      "    CID     NAME STATE DSG\n",
      "1   200  MANJULA    AP  SE\n",
      "4   500    SWATI    AP  PM\n",
      "7   800    UDAYA    AP  PM\n",
      "9   750   ANJALI    AP  TL\n",
      "11  550  SIRISHA    AP  HR\n",
      "13  350   AKHILA    AP  HR\n",
      "15  950  MOUNIKA    AP  HR\n",
      "17  185   JHANSI    AP  TL\n",
      "**************************************************\n",
      "**************************************************\n",
      "Group Name= BANG\n",
      "**************************************************\n",
      "    CID        NAME STATE DSG\n",
      "3   400  LAXIMIDEVI  BANG  TL\n",
      "5   600     SHAKSHI  BANG  PM\n",
      "8   900       SWETA  BANG  SE\n",
      "10  650    JAYASREE  BANG  PM\n",
      "14  150       RADHA  BANG  TL\n",
      "**************************************************\n",
      "**************************************************\n",
      "Group Name= TS\n",
      "**************************************************\n",
      "    CID      NAME STATE DSG\n",
      "0   100  VISHNAVI    TS  SE\n",
      "2   300   BHUMIKA    TS  TL\n",
      "6   700  BHARGAVI    TS  SE\n",
      "12  450   MADHAVI    TS  HR\n",
      "16  125   FARHANA    TS  TL\n",
      "**************************************************\n"
     ]
    }
   ],
   "source": [
    "# get the group name and its details \n",
    "for groupname,grouprecords in df.groupby(\"STATE\"):\n",
    "    print(\"*\"*50)\n",
    "    print(\"Group Name=\",groupname)\n",
    "    print(\"*\"*50)\n",
    "    print(grouprecords)\n",
    "    print(\"*\"*50)"
   ]
  },
  {
   "cell_type": "code",
   "execution_count": 27,
   "id": "3fc55c1e-049a-4bc2-ab31-e8a528da5ec4",
   "metadata": {},
   "outputs": [
    {
     "name": "stdout",
     "output_type": "stream",
     "text": [
      "**************************************************\n",
      "Group Name= HR\n",
      "**************************************************\n",
      "    CID     NAME STATE DSG\n",
      "11  550  SIRISHA    AP  HR\n",
      "12  450  MADHAVI    TS  HR\n",
      "13  350   AKHILA    AP  HR\n",
      "15  950  MOUNIKA    AP  HR\n",
      "**************************************************\n",
      "**************************************************\n",
      "Group Name= PM\n",
      "**************************************************\n",
      "    CID      NAME STATE DSG\n",
      "4   500     SWATI    AP  PM\n",
      "5   600   SHAKSHI  BANG  PM\n",
      "7   800     UDAYA    AP  PM\n",
      "10  650  JAYASREE  BANG  PM\n",
      "**************************************************\n",
      "**************************************************\n",
      "Group Name= SE\n",
      "**************************************************\n",
      "   CID      NAME STATE DSG\n",
      "0  100  VISHNAVI    TS  SE\n",
      "1  200   MANJULA    AP  SE\n",
      "6  700  BHARGAVI    TS  SE\n",
      "8  900     SWETA  BANG  SE\n",
      "**************************************************\n",
      "**************************************************\n",
      "Group Name= TL\n",
      "**************************************************\n",
      "    CID        NAME STATE DSG\n",
      "2   300     BHUMIKA    TS  TL\n",
      "3   400  LAXIMIDEVI  BANG  TL\n",
      "9   750      ANJALI    AP  TL\n",
      "14  150       RADHA  BANG  TL\n",
      "16  125     FARHANA    TS  TL\n",
      "17  185      JHANSI    AP  TL\n",
      "**************************************************\n"
     ]
    }
   ],
   "source": [
    "# groupby with the DSG \n",
    "for groupname,grouprecords in df.groupby(\"DSG\"):\n",
    "    print(\"*\"*50)\n",
    "    print(\"Group Name=\",groupname)\n",
    "    print(\"*\"*50)\n",
    "    print(grouprecords)\n",
    "    print(\"*\"*50)"
   ]
  },
  {
   "cell_type": "code",
   "execution_count": 29,
   "id": "01f9f7ea-a426-4be8-a708-e2772a23978d",
   "metadata": {},
   "outputs": [
    {
     "data": {
      "text/html": [
       "<div>\n",
       "<style scoped>\n",
       "    .dataframe tbody tr th:only-of-type {\n",
       "        vertical-align: middle;\n",
       "    }\n",
       "\n",
       "    .dataframe tbody tr th {\n",
       "        vertical-align: top;\n",
       "    }\n",
       "\n",
       "    .dataframe thead th {\n",
       "        text-align: right;\n",
       "    }\n",
       "</style>\n",
       "<table border=\"1\" class=\"dataframe\">\n",
       "  <thead>\n",
       "    <tr style=\"text-align: right;\">\n",
       "      <th></th>\n",
       "      <th>CID</th>\n",
       "      <th>NAME</th>\n",
       "      <th>STATE</th>\n",
       "    </tr>\n",
       "    <tr>\n",
       "      <th>DSG</th>\n",
       "      <th></th>\n",
       "      <th></th>\n",
       "      <th></th>\n",
       "    </tr>\n",
       "  </thead>\n",
       "  <tbody>\n",
       "    <tr>\n",
       "      <th>HR</th>\n",
       "      <td>4</td>\n",
       "      <td>4</td>\n",
       "      <td>2</td>\n",
       "    </tr>\n",
       "    <tr>\n",
       "      <th>PM</th>\n",
       "      <td>4</td>\n",
       "      <td>4</td>\n",
       "      <td>2</td>\n",
       "    </tr>\n",
       "    <tr>\n",
       "      <th>SE</th>\n",
       "      <td>4</td>\n",
       "      <td>4</td>\n",
       "      <td>3</td>\n",
       "    </tr>\n",
       "    <tr>\n",
       "      <th>TL</th>\n",
       "      <td>6</td>\n",
       "      <td>6</td>\n",
       "      <td>3</td>\n",
       "    </tr>\n",
       "  </tbody>\n",
       "</table>\n",
       "</div>"
      ],
      "text/plain": [
       "     CID  NAME  STATE\n",
       "DSG                  \n",
       "HR     4     4      2\n",
       "PM     4     4      2\n",
       "SE     4     4      3\n",
       "TL     6     6      3"
      ]
     },
     "execution_count": 29,
     "metadata": {},
     "output_type": "execute_result"
    }
   ],
   "source": [
    "df.groupby(\"DSG\").nunique()"
   ]
  },
  {
   "cell_type": "code",
   "execution_count": 31,
   "id": "c3890ce7-8fab-4a31-9b11-df5c616b7992",
   "metadata": {},
   "outputs": [
    {
     "data": {
      "text/plain": [
       "DSG\n",
       "HR    4\n",
       "PM    4\n",
       "SE    4\n",
       "TL    6\n",
       "dtype: int64"
      ]
     },
     "execution_count": 31,
     "metadata": {},
     "output_type": "execute_result"
    }
   ],
   "source": [
    "# get the size of the datafrma groups on the bases of the DSG\n",
    "df.groupby(\"DSG\").size()"
   ]
  },
  {
   "cell_type": "code",
   "execution_count": 33,
   "id": "4dcbb8f0-7690-43f4-9411-250a780959c4",
   "metadata": {},
   "outputs": [
    {
     "name": "stdout",
     "output_type": "stream",
     "text": [
      "<class 'tuple'>\n",
      "<class 'tuple'>\n",
      "<class 'tuple'>\n",
      "<class 'tuple'>\n"
     ]
    }
   ],
   "source": [
    "# get the groupname and its details\n",
    "for gbinfo in df.groupby(\"DSG\"):\n",
    "    print(type(gbinfo))"
   ]
  },
  {
   "cell_type": "code",
   "execution_count": 39,
   "id": "0251b3d0-36ae-44cb-85f4-36c08486071b",
   "metadata": {},
   "outputs": [
    {
     "name": "stdout",
     "output_type": "stream",
     "text": [
      "HR\n",
      "<class 'str'>\n",
      "PM\n",
      "<class 'str'>\n",
      "SE\n",
      "<class 'str'>\n",
      "TL\n",
      "<class 'str'>\n"
     ]
    }
   ],
   "source": [
    "# get the groupname and its details\n",
    "for gbinfo in df.groupby(\"DSG\"):\n",
    "    print(gbinfo[0])\n",
    "    print(type(gbinfo[0]))"
   ]
  },
  {
   "cell_type": "code",
   "execution_count": 41,
   "id": "8e7ac9fd-37b2-4822-b5a7-6fd2e8abcaf7",
   "metadata": {},
   "outputs": [
    {
     "name": "stdout",
     "output_type": "stream",
     "text": [
      "    CID     NAME STATE DSG\n",
      "11  550  SIRISHA    AP  HR\n",
      "12  450  MADHAVI    TS  HR\n",
      "13  350   AKHILA    AP  HR\n",
      "15  950  MOUNIKA    AP  HR\n",
      "<class 'pandas.core.frame.DataFrame'>\n",
      "    CID      NAME STATE DSG\n",
      "4   500     SWATI    AP  PM\n",
      "5   600   SHAKSHI  BANG  PM\n",
      "7   800     UDAYA    AP  PM\n",
      "10  650  JAYASREE  BANG  PM\n",
      "<class 'pandas.core.frame.DataFrame'>\n",
      "   CID      NAME STATE DSG\n",
      "0  100  VISHNAVI    TS  SE\n",
      "1  200   MANJULA    AP  SE\n",
      "6  700  BHARGAVI    TS  SE\n",
      "8  900     SWETA  BANG  SE\n",
      "<class 'pandas.core.frame.DataFrame'>\n",
      "    CID        NAME STATE DSG\n",
      "2   300     BHUMIKA    TS  TL\n",
      "3   400  LAXIMIDEVI  BANG  TL\n",
      "9   750      ANJALI    AP  TL\n",
      "14  150       RADHA  BANG  TL\n",
      "16  125     FARHANA    TS  TL\n",
      "17  185      JHANSI    AP  TL\n",
      "<class 'pandas.core.frame.DataFrame'>\n"
     ]
    }
   ],
   "source": [
    "for gbinfo in df.groupby(\"DSG\"):\n",
    "    print(gbinfo[1])\n",
    "    print(type(gbinfo[1]))"
   ]
  },
  {
   "cell_type": "code",
   "execution_count": 45,
   "id": "8e2c67b2-2d05-4e23-923e-707ba18b8d0c",
   "metadata": {},
   "outputs": [
    {
     "name": "stdout",
     "output_type": "stream",
     "text": [
      "HR ---> 4\n",
      "PM ---> 4\n",
      "SE ---> 4\n",
      "TL ---> 6\n"
     ]
    }
   ],
   "source": [
    "# get the group name and its size\n",
    "for gbinfo in df.groupby(\"DSG\"):\n",
    "    print(gbinfo[0],\"--->\",len(gbinfo[1]))"
   ]
  }
 ],
 "metadata": {
  "kernelspec": {
   "display_name": "Python 3 (ipykernel)",
   "language": "python",
   "name": "python3"
  },
  "language_info": {
   "codemirror_mode": {
    "name": "ipython",
    "version": 3
   },
   "file_extension": ".py",
   "mimetype": "text/x-python",
   "name": "python",
   "nbconvert_exporter": "python",
   "pygments_lexer": "ipython3",
   "version": "3.12.4"
  }
 },
 "nbformat": 4,
 "nbformat_minor": 5
}
