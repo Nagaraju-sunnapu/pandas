{
 "cells": [
  {
   "cell_type": "code",
   "execution_count": 1,
   "id": "76f30cb8-012f-4e05-8a4f-14efb8e69e53",
   "metadata": {},
   "outputs": [],
   "source": [
    "import numpy as np\n",
    "import pandas as pd"
   ]
  },
  {
   "cell_type": "code",
   "execution_count": 3,
   "id": "9902ae29-2da3-4d20-a4d3-9537076cd22f",
   "metadata": {},
   "outputs": [
    {
     "name": "stdout",
     "output_type": "stream",
     "text": [
      "  Team  Points\n",
      "0    A      30\n",
      "1    A      22\n",
      "2    A      19\n",
      "3    A      14\n",
      "4    B      14\n",
      "5    B      11\n",
      "6    B      20\n",
      "7    B      28\n"
     ]
    }
   ],
   "source": [
    "d={\"Team\":[\"A\",\"A\",\"A\",\"A\",\"B\",\"B\",\"B\",\"B\"],\n",
    "   \"Points\":[30,22,19,14,14,11,20,28]}\n",
    "df=pd.DataFrame(d)\n",
    "print(df)"
   ]
  },
  {
   "cell_type": "code",
   "execution_count": 5,
   "id": "1b0e3eb4-cc56-44f5-8777-e1ea4f594b17",
   "metadata": {},
   "outputs": [
    {
     "data": {
      "text/html": [
       "<div>\n",
       "<style scoped>\n",
       "    .dataframe tbody tr th:only-of-type {\n",
       "        vertical-align: middle;\n",
       "    }\n",
       "\n",
       "    .dataframe tbody tr th {\n",
       "        vertical-align: top;\n",
       "    }\n",
       "\n",
       "    .dataframe thead th {\n",
       "        text-align: right;\n",
       "    }\n",
       "</style>\n",
       "<table border=\"1\" class=\"dataframe\">\n",
       "  <thead>\n",
       "    <tr style=\"text-align: right;\">\n",
       "      <th></th>\n",
       "      <th>Team</th>\n",
       "      <th>Points</th>\n",
       "    </tr>\n",
       "  </thead>\n",
       "  <tbody>\n",
       "    <tr>\n",
       "      <th>0</th>\n",
       "      <td>A</td>\n",
       "      <td>30</td>\n",
       "    </tr>\n",
       "    <tr>\n",
       "      <th>1</th>\n",
       "      <td>A</td>\n",
       "      <td>22</td>\n",
       "    </tr>\n",
       "    <tr>\n",
       "      <th>2</th>\n",
       "      <td>A</td>\n",
       "      <td>19</td>\n",
       "    </tr>\n",
       "    <tr>\n",
       "      <th>3</th>\n",
       "      <td>A</td>\n",
       "      <td>14</td>\n",
       "    </tr>\n",
       "    <tr>\n",
       "      <th>4</th>\n",
       "      <td>B</td>\n",
       "      <td>14</td>\n",
       "    </tr>\n",
       "    <tr>\n",
       "      <th>5</th>\n",
       "      <td>B</td>\n",
       "      <td>11</td>\n",
       "    </tr>\n",
       "    <tr>\n",
       "      <th>6</th>\n",
       "      <td>B</td>\n",
       "      <td>20</td>\n",
       "    </tr>\n",
       "    <tr>\n",
       "      <th>7</th>\n",
       "      <td>B</td>\n",
       "      <td>28</td>\n",
       "    </tr>\n",
       "  </tbody>\n",
       "</table>\n",
       "</div>"
      ],
      "text/plain": [
       "  Team  Points\n",
       "0    A      30\n",
       "1    A      22\n",
       "2    A      19\n",
       "3    A      14\n",
       "4    B      14\n",
       "5    B      11\n",
       "6    B      20\n",
       "7    B      28"
      ]
     },
     "execution_count": 5,
     "metadata": {},
     "output_type": "execute_result"
    }
   ],
   "source": [
    "df"
   ]
  },
  {
   "cell_type": "code",
   "execution_count": 7,
   "id": "1353bdc2-6317-4076-b829-591b6ce5af96",
   "metadata": {},
   "outputs": [
    {
     "data": {
      "text/plain": [
       "<generator object DataFrame.iterrows at 0x0000020ED26FF780>"
      ]
     },
     "execution_count": 7,
     "metadata": {},
     "output_type": "execute_result"
    }
   ],
   "source": [
    "df.iterrows()"
   ]
  },
  {
   "cell_type": "code",
   "execution_count": 15,
   "id": "ff7207bd-bb26-46c9-9145-9c1da157bf80",
   "metadata": {},
   "outputs": [
    {
     "name": "stdout",
     "output_type": "stream",
     "text": [
      "(0, Team       A\n",
      "Points    30\n",
      "Name: 0, dtype: object)\n",
      "<class 'tuple'>\n",
      "---------------------------\n",
      "(1, Team       A\n",
      "Points    22\n",
      "Name: 1, dtype: object)\n",
      "<class 'tuple'>\n",
      "---------------------------\n",
      "(2, Team       A\n",
      "Points    19\n",
      "Name: 2, dtype: object)\n",
      "<class 'tuple'>\n",
      "---------------------------\n",
      "(3, Team       A\n",
      "Points    14\n",
      "Name: 3, dtype: object)\n",
      "<class 'tuple'>\n",
      "---------------------------\n",
      "(4, Team       B\n",
      "Points    14\n",
      "Name: 4, dtype: object)\n",
      "<class 'tuple'>\n",
      "---------------------------\n",
      "(5, Team       B\n",
      "Points    11\n",
      "Name: 5, dtype: object)\n",
      "<class 'tuple'>\n",
      "---------------------------\n",
      "(6, Team       B\n",
      "Points    20\n",
      "Name: 6, dtype: object)\n",
      "<class 'tuple'>\n",
      "---------------------------\n",
      "(7, Team       B\n",
      "Points    28\n",
      "Name: 7, dtype: object)\n",
      "<class 'tuple'>\n",
      "---------------------------\n"
     ]
    }
   ],
   "source": [
    "for d in df.iterrows():\n",
    "    print(d)\n",
    "    print(type(d))\n",
    "    print(\"---------------------------\")"
   ]
  },
  {
   "cell_type": "code",
   "execution_count": 17,
   "id": "4e756cf2-dccc-4e2c-9011-4907263e28ff",
   "metadata": {},
   "outputs": [
    {
     "name": "stdout",
     "output_type": "stream",
     "text": [
      "----------------------------\n",
      "group name= 0\n",
      "group values= Team       A\n",
      "Points    30\n",
      "Name: 0, dtype: object\n",
      "------------------------------\n",
      "----------------------------\n",
      "group name= 1\n",
      "group values= Team       A\n",
      "Points    22\n",
      "Name: 1, dtype: object\n",
      "------------------------------\n",
      "----------------------------\n",
      "group name= 2\n",
      "group values= Team       A\n",
      "Points    19\n",
      "Name: 2, dtype: object\n",
      "------------------------------\n",
      "----------------------------\n",
      "group name= 3\n",
      "group values= Team       A\n",
      "Points    14\n",
      "Name: 3, dtype: object\n",
      "------------------------------\n",
      "----------------------------\n",
      "group name= 4\n",
      "group values= Team       B\n",
      "Points    14\n",
      "Name: 4, dtype: object\n",
      "------------------------------\n",
      "----------------------------\n",
      "group name= 5\n",
      "group values= Team       B\n",
      "Points    11\n",
      "Name: 5, dtype: object\n",
      "------------------------------\n",
      "----------------------------\n",
      "group name= 6\n",
      "group values= Team       B\n",
      "Points    20\n",
      "Name: 6, dtype: object\n",
      "------------------------------\n",
      "----------------------------\n",
      "group name= 7\n",
      "group values= Team       B\n",
      "Points    28\n",
      "Name: 7, dtype: object\n",
      "------------------------------\n"
     ]
    }
   ],
   "source": [
    "for gn,gv in df.iterrows():\n",
    "    print(\"----------------------------\")\n",
    "    print(\"group name=\",gn)\n",
    "    print(\"group values=\",gv)\n",
    "    print(\"------------------------------\")"
   ]
  },
  {
   "cell_type": "code",
   "execution_count": 19,
   "id": "45fbbc1f-0021-47be-8204-44c09bf4a0b3",
   "metadata": {},
   "outputs": [
    {
     "name": "stdout",
     "output_type": "stream",
     "text": [
      "('A',   Team  Points\n",
      "0    A      30\n",
      "1    A      22\n",
      "2    A      19\n",
      "3    A      14)\n",
      "<class 'tuple'>\n",
      "('B',   Team  Points\n",
      "4    B      14\n",
      "5    B      11\n",
      "6    B      20\n",
      "7    B      28)\n",
      "<class 'tuple'>\n"
     ]
    }
   ],
   "source": [
    "for gn in df.groupby(\"Team\"):\n",
    "    print(gn)\n",
    "    print(type(gn))"
   ]
  },
  {
   "cell_type": "code",
   "execution_count": 21,
   "id": "859ec894-0551-4690-95ad-9ba77762f0fa",
   "metadata": {},
   "outputs": [
    {
     "name": "stdout",
     "output_type": "stream",
     "text": [
      "------------------------------\n",
      "A\n",
      "  Team  Points\n",
      "0    A      30\n",
      "1    A      22\n",
      "2    A      19\n",
      "3    A      14\n",
      "-----------------------------\n",
      "------------------------------\n",
      "B\n",
      "  Team  Points\n",
      "4    B      14\n",
      "5    B      11\n",
      "6    B      20\n",
      "7    B      28\n",
      "-----------------------------\n"
     ]
    }
   ],
   "source": [
    "for gn,gv in df.groupby(\"Team\"):\n",
    "    print(\"------------------------------\")\n",
    "    print(gn)\n",
    "    print(gv)\n",
    "    print(\"-----------------------------\")"
   ]
  },
  {
   "cell_type": "code",
   "execution_count": 23,
   "id": "dcbaee31-a27e-4e47-ada4-15b51d652f7d",
   "metadata": {},
   "outputs": [
    {
     "name": "stdout",
     "output_type": "stream",
     "text": [
      "<class 'str'>\n",
      "<class 'pandas.core.frame.DataFrame'>\n"
     ]
    }
   ],
   "source": [
    "print(type(gn))\n",
    "print(type(gv))"
   ]
  },
  {
   "cell_type": "code",
   "execution_count": 28,
   "id": "6782dc73-b608-416a-8445-d4eb7a080d02",
   "metadata": {},
   "outputs": [
    {
     "name": "stdout",
     "output_type": "stream",
     "text": [
      "A\n",
      "[30 22 19 14]\n",
      "----------------------------\n",
      "B\n",
      "[14 11 20 28]\n",
      "----------------------------\n"
     ]
    }
   ],
   "source": [
    "for p in df.groupby(\"Team\")[\"Points\"]:\n",
    "    print(p[0])\n",
    "    print(p[1].values)\n",
    "    print(\"----------------------------\")"
   ]
  },
  {
   "cell_type": "code",
   "execution_count": 30,
   "id": "e8f458f6-4b94-46c9-a414-6801140d6b30",
   "metadata": {},
   "outputs": [],
   "source": [
    "# calculate sum points of both team A and team B\n",
    "df[\"Total Score\"]=df.groupby(\"Team\")[\"Points\"].transform(\"sum\")"
   ]
  },
  {
   "cell_type": "code",
   "execution_count": 32,
   "id": "4de7cfaf-7816-4c1c-9f34-952d93413d4b",
   "metadata": {},
   "outputs": [
    {
     "data": {
      "text/html": [
       "<div>\n",
       "<style scoped>\n",
       "    .dataframe tbody tr th:only-of-type {\n",
       "        vertical-align: middle;\n",
       "    }\n",
       "\n",
       "    .dataframe tbody tr th {\n",
       "        vertical-align: top;\n",
       "    }\n",
       "\n",
       "    .dataframe thead th {\n",
       "        text-align: right;\n",
       "    }\n",
       "</style>\n",
       "<table border=\"1\" class=\"dataframe\">\n",
       "  <thead>\n",
       "    <tr style=\"text-align: right;\">\n",
       "      <th></th>\n",
       "      <th>Team</th>\n",
       "      <th>Points</th>\n",
       "      <th>Total Score</th>\n",
       "    </tr>\n",
       "  </thead>\n",
       "  <tbody>\n",
       "    <tr>\n",
       "      <th>0</th>\n",
       "      <td>A</td>\n",
       "      <td>30</td>\n",
       "      <td>85</td>\n",
       "    </tr>\n",
       "    <tr>\n",
       "      <th>1</th>\n",
       "      <td>A</td>\n",
       "      <td>22</td>\n",
       "      <td>85</td>\n",
       "    </tr>\n",
       "    <tr>\n",
       "      <th>2</th>\n",
       "      <td>A</td>\n",
       "      <td>19</td>\n",
       "      <td>85</td>\n",
       "    </tr>\n",
       "    <tr>\n",
       "      <th>3</th>\n",
       "      <td>A</td>\n",
       "      <td>14</td>\n",
       "      <td>85</td>\n",
       "    </tr>\n",
       "    <tr>\n",
       "      <th>4</th>\n",
       "      <td>B</td>\n",
       "      <td>14</td>\n",
       "      <td>73</td>\n",
       "    </tr>\n",
       "    <tr>\n",
       "      <th>5</th>\n",
       "      <td>B</td>\n",
       "      <td>11</td>\n",
       "      <td>73</td>\n",
       "    </tr>\n",
       "    <tr>\n",
       "      <th>6</th>\n",
       "      <td>B</td>\n",
       "      <td>20</td>\n",
       "      <td>73</td>\n",
       "    </tr>\n",
       "    <tr>\n",
       "      <th>7</th>\n",
       "      <td>B</td>\n",
       "      <td>28</td>\n",
       "      <td>73</td>\n",
       "    </tr>\n",
       "  </tbody>\n",
       "</table>\n",
       "</div>"
      ],
      "text/plain": [
       "  Team  Points  Total Score\n",
       "0    A      30           85\n",
       "1    A      22           85\n",
       "2    A      19           85\n",
       "3    A      14           85\n",
       "4    B      14           73\n",
       "5    B      11           73\n",
       "6    B      20           73\n",
       "7    B      28           73"
      ]
     },
     "execution_count": 32,
     "metadata": {},
     "output_type": "execute_result"
    }
   ],
   "source": [
    "df"
   ]
  },
  {
   "cell_type": "code",
   "execution_count": 38,
   "id": "7311f1cf-1689-48a5-bec8-9df89ec7769b",
   "metadata": {},
   "outputs": [],
   "source": [
    "# cal the mean the teams\n",
    "df[\"Mean Of Teams\"]=df.groupby(\"Team\")[\"Points\"].transform(\"mean\")"
   ]
  },
  {
   "cell_type": "code",
   "execution_count": 40,
   "id": "ecb2ab2c-eb1c-4ff0-a8d3-fd80d1c20076",
   "metadata": {},
   "outputs": [
    {
     "data": {
      "text/html": [
       "<div>\n",
       "<style scoped>\n",
       "    .dataframe tbody tr th:only-of-type {\n",
       "        vertical-align: middle;\n",
       "    }\n",
       "\n",
       "    .dataframe tbody tr th {\n",
       "        vertical-align: top;\n",
       "    }\n",
       "\n",
       "    .dataframe thead th {\n",
       "        text-align: right;\n",
       "    }\n",
       "</style>\n",
       "<table border=\"1\" class=\"dataframe\">\n",
       "  <thead>\n",
       "    <tr style=\"text-align: right;\">\n",
       "      <th></th>\n",
       "      <th>Team</th>\n",
       "      <th>Points</th>\n",
       "      <th>Total Score</th>\n",
       "      <th>Mean Of Teams</th>\n",
       "    </tr>\n",
       "  </thead>\n",
       "  <tbody>\n",
       "    <tr>\n",
       "      <th>0</th>\n",
       "      <td>A</td>\n",
       "      <td>30</td>\n",
       "      <td>85</td>\n",
       "      <td>21.25</td>\n",
       "    </tr>\n",
       "    <tr>\n",
       "      <th>1</th>\n",
       "      <td>A</td>\n",
       "      <td>22</td>\n",
       "      <td>85</td>\n",
       "      <td>21.25</td>\n",
       "    </tr>\n",
       "    <tr>\n",
       "      <th>2</th>\n",
       "      <td>A</td>\n",
       "      <td>19</td>\n",
       "      <td>85</td>\n",
       "      <td>21.25</td>\n",
       "    </tr>\n",
       "    <tr>\n",
       "      <th>3</th>\n",
       "      <td>A</td>\n",
       "      <td>14</td>\n",
       "      <td>85</td>\n",
       "      <td>21.25</td>\n",
       "    </tr>\n",
       "    <tr>\n",
       "      <th>4</th>\n",
       "      <td>B</td>\n",
       "      <td>14</td>\n",
       "      <td>73</td>\n",
       "      <td>18.25</td>\n",
       "    </tr>\n",
       "    <tr>\n",
       "      <th>5</th>\n",
       "      <td>B</td>\n",
       "      <td>11</td>\n",
       "      <td>73</td>\n",
       "      <td>18.25</td>\n",
       "    </tr>\n",
       "    <tr>\n",
       "      <th>6</th>\n",
       "      <td>B</td>\n",
       "      <td>20</td>\n",
       "      <td>73</td>\n",
       "      <td>18.25</td>\n",
       "    </tr>\n",
       "    <tr>\n",
       "      <th>7</th>\n",
       "      <td>B</td>\n",
       "      <td>28</td>\n",
       "      <td>73</td>\n",
       "      <td>18.25</td>\n",
       "    </tr>\n",
       "  </tbody>\n",
       "</table>\n",
       "</div>"
      ],
      "text/plain": [
       "  Team  Points  Total Score  Mean Of Teams\n",
       "0    A      30           85          21.25\n",
       "1    A      22           85          21.25\n",
       "2    A      19           85          21.25\n",
       "3    A      14           85          21.25\n",
       "4    B      14           73          18.25\n",
       "5    B      11           73          18.25\n",
       "6    B      20           73          18.25\n",
       "7    B      28           73          18.25"
      ]
     },
     "execution_count": 40,
     "metadata": {},
     "output_type": "execute_result"
    }
   ],
   "source": [
    "df"
   ]
  },
  {
   "cell_type": "code",
   "execution_count": 42,
   "id": "c9a52f4b-73c5-4837-8b05-97d29393a7d5",
   "metadata": {},
   "outputs": [],
   "source": [
    "# calculatae the percentage of the scores"
   ]
  },
  {
   "cell_type": "code",
   "execution_count": 44,
   "id": "0b39cbe0-394b-4d78-b6d1-e990cebf3cde",
   "metadata": {},
   "outputs": [],
   "source": [
    "df[\"Percentage\"]=df.groupby('Team')[\"Points\"].transform(lambda x:round((x/sum(x))*100,2))"
   ]
  },
  {
   "cell_type": "code",
   "execution_count": 46,
   "id": "4585b2bf-ca50-4ba6-afb9-9736c32b28f4",
   "metadata": {},
   "outputs": [
    {
     "data": {
      "text/html": [
       "<div>\n",
       "<style scoped>\n",
       "    .dataframe tbody tr th:only-of-type {\n",
       "        vertical-align: middle;\n",
       "    }\n",
       "\n",
       "    .dataframe tbody tr th {\n",
       "        vertical-align: top;\n",
       "    }\n",
       "\n",
       "    .dataframe thead th {\n",
       "        text-align: right;\n",
       "    }\n",
       "</style>\n",
       "<table border=\"1\" class=\"dataframe\">\n",
       "  <thead>\n",
       "    <tr style=\"text-align: right;\">\n",
       "      <th></th>\n",
       "      <th>Team</th>\n",
       "      <th>Points</th>\n",
       "      <th>Total Score</th>\n",
       "      <th>Mean Of Teams</th>\n",
       "      <th>Percentage</th>\n",
       "    </tr>\n",
       "  </thead>\n",
       "  <tbody>\n",
       "    <tr>\n",
       "      <th>0</th>\n",
       "      <td>A</td>\n",
       "      <td>30</td>\n",
       "      <td>85</td>\n",
       "      <td>21.25</td>\n",
       "      <td>35.29</td>\n",
       "    </tr>\n",
       "    <tr>\n",
       "      <th>1</th>\n",
       "      <td>A</td>\n",
       "      <td>22</td>\n",
       "      <td>85</td>\n",
       "      <td>21.25</td>\n",
       "      <td>25.88</td>\n",
       "    </tr>\n",
       "    <tr>\n",
       "      <th>2</th>\n",
       "      <td>A</td>\n",
       "      <td>19</td>\n",
       "      <td>85</td>\n",
       "      <td>21.25</td>\n",
       "      <td>22.35</td>\n",
       "    </tr>\n",
       "    <tr>\n",
       "      <th>3</th>\n",
       "      <td>A</td>\n",
       "      <td>14</td>\n",
       "      <td>85</td>\n",
       "      <td>21.25</td>\n",
       "      <td>16.47</td>\n",
       "    </tr>\n",
       "    <tr>\n",
       "      <th>4</th>\n",
       "      <td>B</td>\n",
       "      <td>14</td>\n",
       "      <td>73</td>\n",
       "      <td>18.25</td>\n",
       "      <td>19.18</td>\n",
       "    </tr>\n",
       "    <tr>\n",
       "      <th>5</th>\n",
       "      <td>B</td>\n",
       "      <td>11</td>\n",
       "      <td>73</td>\n",
       "      <td>18.25</td>\n",
       "      <td>15.07</td>\n",
       "    </tr>\n",
       "    <tr>\n",
       "      <th>6</th>\n",
       "      <td>B</td>\n",
       "      <td>20</td>\n",
       "      <td>73</td>\n",
       "      <td>18.25</td>\n",
       "      <td>27.40</td>\n",
       "    </tr>\n",
       "    <tr>\n",
       "      <th>7</th>\n",
       "      <td>B</td>\n",
       "      <td>28</td>\n",
       "      <td>73</td>\n",
       "      <td>18.25</td>\n",
       "      <td>38.36</td>\n",
       "    </tr>\n",
       "  </tbody>\n",
       "</table>\n",
       "</div>"
      ],
      "text/plain": [
       "  Team  Points  Total Score  Mean Of Teams  Percentage\n",
       "0    A      30           85          21.25       35.29\n",
       "1    A      22           85          21.25       25.88\n",
       "2    A      19           85          21.25       22.35\n",
       "3    A      14           85          21.25       16.47\n",
       "4    B      14           73          18.25       19.18\n",
       "5    B      11           73          18.25       15.07\n",
       "6    B      20           73          18.25       27.40\n",
       "7    B      28           73          18.25       38.36"
      ]
     },
     "execution_count": 46,
     "metadata": {},
     "output_type": "execute_result"
    }
   ],
   "source": [
    "df"
   ]
  },
  {
   "cell_type": "code",
   "execution_count": null,
   "id": "9c7955db-83c4-4be4-b9a3-fe8b5a1d22d9",
   "metadata": {},
   "outputs": [],
   "source": []
  }
 ],
 "metadata": {
  "kernelspec": {
   "display_name": "Python 3 (ipykernel)",
   "language": "python",
   "name": "python3"
  },
  "language_info": {
   "codemirror_mode": {
    "name": "ipython",
    "version": 3
   },
   "file_extension": ".py",
   "mimetype": "text/x-python",
   "name": "python",
   "nbconvert_exporter": "python",
   "pygments_lexer": "ipython3",
   "version": "3.12.4"
  }
 },
 "nbformat": 4,
 "nbformat_minor": 5
}
