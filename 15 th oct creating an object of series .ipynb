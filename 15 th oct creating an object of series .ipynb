{
 "cells": [
  {
   "cell_type": "markdown",
   "id": "a19edf46-aac7-481d-a4a5-98f457517252",
   "metadata": {},
   "source": [
    "## creating series"
   ]
  },
  {
   "cell_type": "code",
   "execution_count": 2,
   "id": "c393faa3-b112-4916-a092-785718d1484d",
   "metadata": {},
   "outputs": [],
   "source": [
    "# varname=pandas.Series(object,index,dtype,name)"
   ]
  },
  {
   "cell_type": "code",
   "execution_count": 4,
   "id": "61ec7744-a8c5-4227-b4d9-95de3a596256",
   "metadata": {},
   "outputs": [],
   "source": [
    "import numpy as np\n",
    "import pandas as pd"
   ]
  },
  {
   "cell_type": "code",
   "execution_count": 6,
   "id": "875170e5-3369-4927-a14a-6db36471c635",
   "metadata": {},
   "outputs": [
    {
     "name": "stdout",
     "output_type": "stream",
     "text": [
      "0    10\n",
      "dtype: int64 <class 'pandas.core.series.Series'>\n"
     ]
    }
   ],
   "source": [
    "a=10\n",
    "s=pd.Series(a)\n",
    "print(s,type(s))"
   ]
  },
  {
   "cell_type": "code",
   "execution_count": 8,
   "id": "c9dc57f9-2029-4f7e-abb0-1f787f66834f",
   "metadata": {},
   "outputs": [
    {
     "name": "stdout",
     "output_type": "stream",
     "text": [
      "0    10.23\n",
      "dtype: float64\n"
     ]
    }
   ],
   "source": [
    "# creating the series object by using the float object \n",
    "a=10.23\n",
    "s=pd.Series(a)\n",
    "print(s)"
   ]
  },
  {
   "cell_type": "code",
   "execution_count": 10,
   "id": "bd49ac07-d80a-4afc-b1e1-90d2cbd9dc29",
   "metadata": {},
   "outputs": [
    {
     "name": "stdout",
     "output_type": "stream",
     "text": [
      "0    True\n",
      "dtype: bool\n"
     ]
    }
   ],
   "source": [
    "# creating the series object by using the boolean object \n",
    "a=True\n",
    "s=pd.Series(a)\n",
    "print(s)"
   ]
  },
  {
   "cell_type": "code",
   "execution_count": 14,
   "id": "23955e66-6809-4dcb-b51f-c9b53775cadf",
   "metadata": {},
   "outputs": [
    {
     "ename": "AttributeError",
     "evalue": "module 'pandas' has no attribute 'series'",
     "output_type": "error",
     "traceback": [
      "\u001b[1;31m---------------------------------------------------------------------------\u001b[0m",
      "\u001b[1;31mAttributeError\u001b[0m                            Traceback (most recent call last)",
      "Cell \u001b[1;32mIn[14], line 3\u001b[0m\n\u001b[0;32m      1\u001b[0m \u001b[38;5;66;03m# creating the objec of series by using the complex object\u001b[39;00m\n\u001b[0;32m      2\u001b[0m a\u001b[38;5;241m=\u001b[39m\u001b[38;5;241m2\u001b[39m\u001b[38;5;241m+\u001b[39m\u001b[38;5;241m3\u001b[39mj\n\u001b[1;32m----> 3\u001b[0m s\u001b[38;5;241m=\u001b[39mpd\u001b[38;5;241m.\u001b[39mseries(a) \u001b[38;5;66;03m# AttributeError: module 'pandas' has no attribute 'series'\u001b[39;00m\n\u001b[0;32m      4\u001b[0m \u001b[38;5;28mprint\u001b[39m(s)\n",
      "\u001b[1;31mAttributeError\u001b[0m: module 'pandas' has no attribute 'series'"
     ]
    }
   ],
   "source": [
    "# creating the objec of series by using the complex object\n",
    "a=2+3j\n",
    "s=pd.series(a) # AttributeError: module 'pandas' has no attribute 'series'\n",
    "print(s)"
   ]
  },
  {
   "cell_type": "code",
   "execution_count": 18,
   "id": "aa5d3243-bf3a-4130-9a74-a37a6cb089f6",
   "metadata": {},
   "outputs": [
    {
     "name": "stdout",
     "output_type": "stream",
     "text": [
      "0    2.0+3.0j\n",
      "dtype: complex128\n"
     ]
    }
   ],
   "source": [
    "a=2+3j\n",
    "s=pd.Series(a)\n",
    "print(s)"
   ]
  },
  {
   "cell_type": "code",
   "execution_count": 20,
   "id": "ac2bec5b-2be7-4b8c-9103-903746c45988",
   "metadata": {},
   "outputs": [
    {
     "name": "stdout",
     "output_type": "stream",
     "text": [
      "0    PYTHON\n",
      "dtype: object\n"
     ]
    }
   ],
   "source": [
    "a=\"PYTHON\"\n",
    "s=pd.Series(a)\n",
    "print(s)"
   ]
  },
  {
   "cell_type": "code",
   "execution_count": 22,
   "id": "b3b1a644-d9d5-47ba-acb7-63b7163b6efc",
   "metadata": {},
   "outputs": [
    {
     "name": "stdout",
     "output_type": "stream",
     "text": [
      "0    100\n",
      "1    120\n",
      "2    140\n",
      "3    160\n",
      "4    180\n",
      "5    200\n",
      "dtype: int64\n"
     ]
    }
   ],
   "source": [
    "r=range(100,201,20)\n",
    "s=pd.Series(r)\n",
    "print(s)"
   ]
  },
  {
   "cell_type": "code",
   "execution_count": 24,
   "id": "522d5de1-89a3-4545-b8eb-0ab244d4014f",
   "metadata": {},
   "outputs": [
    {
     "name": "stdout",
     "output_type": "stream",
     "text": [
      "0    100.0\n",
      "1    120.0\n",
      "2    140.0\n",
      "3    160.0\n",
      "4    180.0\n",
      "5    200.0\n",
      "dtype: float64\n"
     ]
    }
   ],
   "source": [
    "# creating the object of series by using the range object \n",
    "r=range(100,201,20)\n",
    "s=pd.Series(r,dtype=float)\n",
    "print(s)"
   ]
  },
  {
   "cell_type": "code",
   "execution_count": 26,
   "id": "e09cb404-4215-41e7-be5a-e03b446671e2",
   "metadata": {},
   "outputs": [
    {
     "name": "stdout",
     "output_type": "stream",
     "text": [
      "0    100\n",
      "1    200\n",
      "2    300\n",
      "3    400\n",
      "4    500\n",
      "5    600\n",
      "dtype: int64\n"
     ]
    }
   ],
   "source": [
    "# creating an object of series by using the list object \n",
    "lst=[100,200,300,400,500,600]\n",
    "s=pd.Series(lst)\n",
    "print(s)"
   ]
  },
  {
   "cell_type": "code",
   "execution_count": 28,
   "id": "7072de81-bcdb-48c0-bdca-b735615a5f8e",
   "metadata": {},
   "outputs": [
    {
     "name": "stdout",
     "output_type": "stream",
     "text": [
      "0    100.0\n",
      "1    200.0\n",
      "2    300.0\n",
      "3    400.0\n",
      "4    500.0\n",
      "5    600.0\n",
      "dtype: float64\n"
     ]
    }
   ],
   "source": [
    "# creating an object of series by using the list object \n",
    "lst=[100,200,300,400,500,600]\n",
    "s=pd.Series(lst,dtype=float)\n",
    "print(s)"
   ]
  },
  {
   "cell_type": "code",
   "execution_count": 30,
   "id": "84c0e8e8-588d-48fc-a297-f2a216d74ff6",
   "metadata": {},
   "outputs": [
    {
     "name": "stdout",
     "output_type": "stream",
     "text": [
      "0    Rossum\n",
      "1    Travis\n",
      "2     kinni\n",
      "3    dennis\n",
      "dtype: object\n"
     ]
    }
   ],
   "source": [
    "# creating an object of series by using the list object\n",
    "lst=[\"Rossum\",\"Travis\",\"kinni\",\"dennis\"]\n",
    "s=pd.Series(lst)\n",
    "print(s)"
   ]
  },
  {
   "cell_type": "code",
   "execution_count": 32,
   "id": "f36d20bd-9111-484d-b483-af0a59e8e75b",
   "metadata": {},
   "outputs": [
    {
     "name": "stdout",
     "output_type": "stream",
     "text": [
      "0    Rossum\n",
      "1    Travis\n",
      "2       100\n",
      "3    dennis\n",
      "4       200\n",
      "dtype: object\n"
     ]
    }
   ],
   "source": [
    "# creating an object of series by using the list object\n",
    "lst=[\"Rossum\",\"Travis\",100,\"dennis\",200]\n",
    "s=pd.Series(lst)\n",
    "print(s)"
   ]
  },
  {
   "cell_type": "code",
   "execution_count": 34,
   "id": "2d20d393-ba82-4627-99d6-15d87cd31465",
   "metadata": {},
   "outputs": [
    {
     "name": "stdout",
     "output_type": "stream",
     "text": [
      "0    1000\n",
      "1    2000\n",
      "2    3000\n",
      "3    4000\n",
      "dtype: int64\n"
     ]
    }
   ],
   "source": [
    "# creating an object of series by using the tuple object\n",
    "tpl=(1000,2000,3000,4000)\n",
    "s=pd.Series(tpl)\n",
    "print(s)"
   ]
  },
  {
   "cell_type": "code",
   "execution_count": 38,
   "id": "991930f2-7c34-46c8-9793-9e1db0fdab42",
   "metadata": {},
   "outputs": [],
   "source": [
    "# creating an object of series by using the dict object\n",
    "st1={100,200,300,400,500}\n",
    "# s=pd.Series(st1) # TypeError: 'set' type is unordered\n",
    "# print(s)"
   ]
  },
  {
   "cell_type": "code",
   "execution_count": 42,
   "id": "00c28863-9dbf-4ae1-8f50-d6ddb71029f3",
   "metadata": {},
   "outputs": [
    {
     "name": "stdout",
     "output_type": "stream",
     "text": [
      "1    100\n",
      "2    105\n",
      "3    110\n",
      "4    115\n",
      "5    120\n",
      "dtype: int64\n"
     ]
    }
   ],
   "source": [
    "# code for assigning programmer-defined index for series object\n",
    "r=range(100,121,5)\n",
    "s=pd.Series(r,index=[1,2,3,4,5])\n",
    "print(s)"
   ]
  },
  {
   "cell_type": "code",
   "execution_count": 44,
   "id": "a065c5a0-dbf5-4b13-93b2-452c13f7dff6",
   "metadata": {},
   "outputs": [
    {
     "data": {
      "text/plain": [
       "100"
      ]
     },
     "execution_count": 44,
     "metadata": {},
     "output_type": "execute_result"
    }
   ],
   "source": [
    "s[1]"
   ]
  },
  {
   "cell_type": "code",
   "execution_count": 48,
   "id": "a8b8e9f7-7371-4679-90f2-834550a70c43",
   "metadata": {},
   "outputs": [
    {
     "data": {
      "text/plain": [
       "105"
      ]
     },
     "execution_count": 48,
     "metadata": {},
     "output_type": "execute_result"
    }
   ],
   "source": [
    "s[2]"
   ]
  },
  {
   "cell_type": "code",
   "execution_count": 50,
   "id": "5477dd03-777f-4361-acf2-8927b57d926f",
   "metadata": {},
   "outputs": [
    {
     "name": "stdout",
     "output_type": "stream",
     "text": [
      "A    100\n",
      "B    120\n",
      "C    140\n",
      "D    160\n",
      "E    180\n",
      "F    200\n",
      "dtype: int64\n"
     ]
    }
   ],
   "source": [
    "r=range(100,201,20)\n",
    "s=pd.Series(r,index=[\"A\",\"B\",\"C\",\"D\",\"E\",\"F\"])\n",
    "print(s)"
   ]
  },
  {
   "cell_type": "code",
   "execution_count": 52,
   "id": "b1020dc5-1444-4f2b-903e-b8776ad4e941",
   "metadata": {},
   "outputs": [
    {
     "data": {
      "text/plain": [
       "100"
      ]
     },
     "execution_count": 52,
     "metadata": {},
     "output_type": "execute_result"
    }
   ],
   "source": [
    "s[\"A\"]"
   ]
  },
  {
   "cell_type": "code",
   "execution_count": 54,
   "id": "f366bb89-c578-4f90-a0f3-516177eb510c",
   "metadata": {},
   "outputs": [
    {
     "data": {
      "text/plain": [
       "180"
      ]
     },
     "execution_count": 54,
     "metadata": {},
     "output_type": "execute_result"
    }
   ],
   "source": [
    "s[\"E\"]"
   ]
  },
  {
   "cell_type": "code",
   "execution_count": 56,
   "id": "5f13488a-fdda-4cd8-8210-84e54ab988df",
   "metadata": {},
   "outputs": [
    {
     "name": "stderr",
     "output_type": "stream",
     "text": [
      "C:\\Users\\dell\\AppData\\Local\\Temp\\ipykernel_15312\\3172538273.py:1: FutureWarning: Series.__getitem__ treating keys as positions is deprecated. In a future version, integer keys will always be treated as labels (consistent with DataFrame behavior). To access a value by position, use `ser.iloc[pos]`\n",
      "  s[3]\n"
     ]
    },
    {
     "data": {
      "text/plain": [
       "160"
      ]
     },
     "execution_count": 56,
     "metadata": {},
     "output_type": "execute_result"
    }
   ],
   "source": [
    "s[3]"
   ]
  },
  {
   "cell_type": "code",
   "execution_count": 58,
   "id": "07ea5cb6-39e5-4c46-b88a-1f5a2886616c",
   "metadata": {},
   "outputs": [
    {
     "name": "stdout",
     "output_type": "stream",
     "text": [
      "10    python\n",
      "20       c++\n",
      "30      java\n",
      "40         c\n",
      "dtype: object\n"
     ]
    }
   ],
   "source": [
    "# creating an object of series by using the dict object\n",
    "d={10:\"python\",20:\"c++\",30:\"java\",40:\"c\"}\n",
    "s=pd.Series(d)\n",
    "print(s)"
   ]
  },
  {
   "cell_type": "code",
   "execution_count": 60,
   "id": "8da33dc3-5c70-453e-9f2c-b7543cba3b62",
   "metadata": {},
   "outputs": [
    {
     "data": {
      "text/plain": [
       "'python'"
      ]
     },
     "execution_count": 60,
     "metadata": {},
     "output_type": "execute_result"
    }
   ],
   "source": [
    "s[10]"
   ]
  },
  {
   "cell_type": "code",
   "execution_count": 64,
   "id": "800ac0e1-0da3-44a5-92e4-6fae39ba64a8",
   "metadata": {},
   "outputs": [],
   "source": [
    "# s[0] #KeyError: 0"
   ]
  },
  {
   "cell_type": "code",
   "execution_count": 66,
   "id": "73b3af12-a1e5-4a21-addd-95540fcd649e",
   "metadata": {},
   "outputs": [
    {
     "name": "stdout",
     "output_type": "stream",
     "text": [
      "Series([], dtype: object)\n"
     ]
    }
   ],
   "source": [
    "a=None\n",
    "s=pd.Series(a)\n",
    "print(s)"
   ]
  },
  {
   "cell_type": "code",
   "execution_count": 70,
   "id": "506df252-3832-44bf-a7cf-952eed82ba2e",
   "metadata": {},
   "outputs": [
    {
     "name": "stdout",
     "output_type": "stream",
     "text": [
      "content of a: [10 20 30 40 50 60 70]\n",
      "type of a: <class 'numpy.ndarray'>\n",
      "0    10\n",
      "1    20\n",
      "2    30\n",
      "3    40\n",
      "4    50\n",
      "5    60\n",
      "6    70\n",
      "dtype: int32 <class 'pandas.core.series.Series'>\n"
     ]
    }
   ],
   "source": [
    "# creating an object of series by using the ndarray\n",
    "import numpy as np\n",
    "a=np.array([10,20,30,40,50,60,70])\n",
    "print(\"content of a:\",a)\n",
    "print(\"type of a:\",type(a))\n",
    "s=pd.Series(a)\n",
    "print(s,type(s))"
   ]
  },
  {
   "cell_type": "code",
   "execution_count": 72,
   "id": "a94268ef-6ff9-4682-b379-1af86993869b",
   "metadata": {},
   "outputs": [
    {
     "name": "stdout",
     "output_type": "stream",
     "text": [
      "1    10\n",
      "2    20\n",
      "3    30\n",
      "4    40\n",
      "5    50\n",
      "6    60\n",
      "7    70\n",
      "dtype: int32\n"
     ]
    }
   ],
   "source": [
    "# creating an object of series by using the ndarray\n",
    "import numpy as np\n",
    "a=np.array([10,20,30,40,50,60,70])\n",
    "s=pd.Series(a,index=[1,2,3,4,5,6,7])\n",
    "print(s)"
   ]
  },
  {
   "cell_type": "code",
   "execution_count": 78,
   "id": "2707139b-ee8f-4837-bd9a-874ede15b3ff",
   "metadata": {},
   "outputs": [
    {
     "name": "stdout",
     "output_type": "stream",
     "text": [
      "    YearsExperience  Salary\n",
      "0               1.1   39343\n",
      "1               1.3   46205\n",
      "2               1.5   37731\n",
      "3               2.0   43525\n",
      "4               2.2   39891\n",
      "5               2.9   56642\n",
      "6               3.0   60150\n",
      "7               3.2   54445\n",
      "8               3.2   64445\n",
      "9               3.7   57189\n",
      "10              3.9   63218\n",
      "11              4.0   55794\n",
      "12              4.0   56957\n",
      "13              4.1   57081\n",
      "14              4.5   61111\n",
      "15              4.9   67938\n",
      "16              5.1   66029\n",
      "17              5.3   83088\n",
      "18              5.9   81363\n",
      "19              6.0   93940\n",
      "20              6.8   91738\n",
      "21              7.1   98273\n",
      "22              7.9  101302\n",
      "23              8.2  113812\n",
      "24              8.7  109431\n",
      "25              9.0  105582\n",
      "26              9.5  116969\n",
      "27              9.6  112635\n",
      "28             10.3  122391\n",
      "29             10.5  121872\n"
     ]
    }
   ],
   "source": [
    "df=pd.read_csv(\"C:\\\\placement notes\\\\Salary_Data.csv\")\n",
    "print(df)"
   ]
  },
  {
   "cell_type": "code",
   "execution_count": 82,
   "id": "b447c4a0-f6dc-4f06-bbe5-3b625a302442",
   "metadata": {},
   "outputs": [
    {
     "name": "stdout",
     "output_type": "stream",
     "text": [
      "0      39343\n",
      "1      46205\n",
      "2      37731\n",
      "3      43525\n",
      "4      39891\n",
      "5      56642\n",
      "6      60150\n",
      "7      54445\n",
      "8      64445\n",
      "9      57189\n",
      "10     63218\n",
      "11     55794\n",
      "12     56957\n",
      "13     57081\n",
      "14     61111\n",
      "15     67938\n",
      "16     66029\n",
      "17     83088\n",
      "18     81363\n",
      "19     93940\n",
      "20     91738\n",
      "21     98273\n",
      "22    101302\n",
      "23    113812\n",
      "24    109431\n",
      "25    105582\n",
      "26    116969\n",
      "27    112635\n",
      "28    122391\n",
      "29    121872\n",
      "Name: Salary, dtype: int64\n"
     ]
    }
   ],
   "source": [
    "print(df[\"Salary\"])"
   ]
  },
  {
   "cell_type": "code",
   "execution_count": null,
   "id": "02af2e54-ae9f-4fd8-b7a3-e5b5859154e4",
   "metadata": {},
   "outputs": [],
   "source": []
  }
 ],
 "metadata": {
  "kernelspec": {
   "display_name": "Python 3 (ipykernel)",
   "language": "python",
   "name": "python3"
  },
  "language_info": {
   "codemirror_mode": {
    "name": "ipython",
    "version": 3
   },
   "file_extension": ".py",
   "mimetype": "text/x-python",
   "name": "python",
   "nbconvert_exporter": "python",
   "pygments_lexer": "ipython3",
   "version": "3.12.4"
  }
 },
 "nbformat": 4,
 "nbformat_minor": 5
}
