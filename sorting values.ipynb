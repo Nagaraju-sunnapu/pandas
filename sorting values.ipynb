{
 "cells": [
  {
   "cell_type": "code",
   "execution_count": 1,
   "id": "cf363772-f53b-4551-8948-fde839415fc7",
   "metadata": {},
   "outputs": [
    {
     "name": "stdout",
     "output_type": "stream",
     "text": [
      "0    10\n",
      "1    20\n",
      "2    -3\n",
      "3     5\n",
      "4     8\n",
      "5    55\n",
      "6    27\n",
      "7    34\n",
      "8    67\n",
      "9   -14\n",
      "dtype: int64\n"
     ]
    }
   ],
   "source": [
    "import numpy as np\n",
    "import pandas as pd\n",
    "s=pd.Series([10,20,-3,5,8,55,27,34,67,-14])\n",
    "print(s)"
   ]
  },
  {
   "cell_type": "code",
   "execution_count": 3,
   "id": "525e37d4-ede9-4045-adf6-6114693eb28c",
   "metadata": {},
   "outputs": [
    {
     "data": {
      "text/plain": [
       "9   -14\n",
       "2    -3\n",
       "3     5\n",
       "4     8\n",
       "0    10\n",
       "1    20\n",
       "6    27\n",
       "7    34\n",
       "5    55\n",
       "8    67\n",
       "dtype: int64"
      ]
     },
     "execution_count": 3,
     "metadata": {},
     "output_type": "execute_result"
    }
   ],
   "source": [
    "s.sort_values()"
   ]
  },
  {
   "cell_type": "code",
   "execution_count": 7,
   "id": "beb902e7-4303-404a-84f6-2d521045361c",
   "metadata": {},
   "outputs": [
    {
     "name": "stdout",
     "output_type": "stream",
     "text": [
      "0    10\n",
      "1    20\n",
      "2    -3\n",
      "3     5\n",
      "4     8\n",
      "5    55\n",
      "6    27\n",
      "7    34\n",
      "8    67\n",
      "9   -14\n",
      "dtype: int64\n"
     ]
    }
   ],
   "source": [
    "print(s)"
   ]
  },
  {
   "cell_type": "code",
   "execution_count": 11,
   "id": "1ab51419-15e5-47c5-ad1a-85015e851bc5",
   "metadata": {},
   "outputs": [],
   "source": [
    "s.sort_values(inplace=True)"
   ]
  },
  {
   "cell_type": "code",
   "execution_count": 13,
   "id": "c8b9926d-c53a-4613-a445-cdc57c9b4023",
   "metadata": {},
   "outputs": [
    {
     "name": "stdout",
     "output_type": "stream",
     "text": [
      "9   -14\n",
      "2    -3\n",
      "3     5\n",
      "4     8\n",
      "0    10\n",
      "1    20\n",
      "6    27\n",
      "7    34\n",
      "5    55\n",
      "8    67\n",
      "dtype: int64\n"
     ]
    }
   ],
   "source": [
    "print(s)"
   ]
  },
  {
   "cell_type": "code",
   "execution_count": 15,
   "id": "12dee117-ea79-40d7-9d1f-54299fab28a7",
   "metadata": {},
   "outputs": [
    {
     "data": {
      "text/plain": [
       "8    67\n",
       "5    55\n",
       "7    34\n",
       "6    27\n",
       "1    20\n",
       "0    10\n",
       "4     8\n",
       "3     5\n",
       "2    -3\n",
       "9   -14\n",
       "dtype: int64"
      ]
     },
     "execution_count": 15,
     "metadata": {},
     "output_type": "execute_result"
    }
   ],
   "source": [
    "s[::-1]"
   ]
  },
  {
   "cell_type": "code",
   "execution_count": 17,
   "id": "4e6b972c-35ff-4f5b-8897-8f2f807c88fa",
   "metadata": {},
   "outputs": [
    {
     "name": "stdout",
     "output_type": "stream",
     "text": [
      "0    10\n",
      "1    20\n",
      "2    -3\n",
      "3     5\n",
      "4     8\n",
      "5    55\n",
      "6    27\n",
      "7    34\n",
      "8    67\n",
      "9   -14\n",
      "dtype: int64\n"
     ]
    }
   ],
   "source": [
    "s=pd.Series([10,20,-3,5,8,55,27,34,67,-14])\n",
    "print(s)"
   ]
  },
  {
   "cell_type": "code",
   "execution_count": 23,
   "id": "3baef464-1f64-4605-8656-f1b9b65e21c7",
   "metadata": {},
   "outputs": [
    {
     "data": {
      "text/plain": [
       "8    67\n",
       "5    55\n",
       "7    34\n",
       "6    27\n",
       "1    20\n",
       "0    10\n",
       "4     8\n",
       "3     5\n",
       "2    -3\n",
       "9   -14\n",
       "dtype: int64"
      ]
     },
     "execution_count": 23,
     "metadata": {},
     "output_type": "execute_result"
    }
   ],
   "source": [
    "s.sort_values(ascending=False)"
   ]
  },
  {
   "cell_type": "code",
   "execution_count": null,
   "id": "5e3be283-73af-4dd7-bc14-5a171dde5762",
   "metadata": {},
   "outputs": [],
   "source": []
  }
 ],
 "metadata": {
  "kernelspec": {
   "display_name": "Python 3 (ipykernel)",
   "language": "python",
   "name": "python3"
  },
  "language_info": {
   "codemirror_mode": {
    "name": "ipython",
    "version": 3
   },
   "file_extension": ".py",
   "mimetype": "text/x-python",
   "name": "python",
   "nbconvert_exporter": "python",
   "pygments_lexer": "ipython3",
   "version": "3.12.4"
  }
 },
 "nbformat": 4,
 "nbformat_minor": 5
}
