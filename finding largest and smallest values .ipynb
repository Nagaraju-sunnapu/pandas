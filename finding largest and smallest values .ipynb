{
 "cells": [
  {
   "cell_type": "code",
   "execution_count": 1,
   "id": "244ed95d-2609-4081-9959-a387896ea6e2",
   "metadata": {},
   "outputs": [
    {
     "name": "stdout",
     "output_type": "stream",
     "text": [
      "0     10\n",
      "1     20\n",
      "2     10\n",
      "3     20\n",
      "4     30\n",
      "5     15\n",
      "6     10\n",
      "7     20\n",
      "8     15\n",
      "9     17\n",
      "10    15\n",
      "11    34\n",
      "12    25\n",
      "13    12\n",
      "dtype: int64\n"
     ]
    }
   ],
   "source": [
    "import numpy as np\n",
    "import pandas as pd\n",
    "s=pd.Series([10,20,10,20,30,15,10,20,15,17,15,34,25,12])\n",
    "print(s)"
   ]
  },
  {
   "cell_type": "code",
   "execution_count": 3,
   "id": "941577a0-8416-4e07-b156-69b0835927b8",
   "metadata": {},
   "outputs": [
    {
     "data": {
      "text/plain": [
       "11    34\n",
       "4     30\n",
       "12    25\n",
       "1     20\n",
       "3     20\n",
       "dtype: int64"
      ]
     },
     "execution_count": 3,
     "metadata": {},
     "output_type": "execute_result"
    }
   ],
   "source": [
    "s.nlargest()"
   ]
  },
  {
   "cell_type": "code",
   "execution_count": 5,
   "id": "445a3b20-ef5e-431d-a746-b8cc44f2eb98",
   "metadata": {},
   "outputs": [
    {
     "data": {
      "text/plain": [
       "11    34\n",
       "4     30\n",
       "dtype: int64"
      ]
     },
     "execution_count": 5,
     "metadata": {},
     "output_type": "execute_result"
    }
   ],
   "source": [
    "s.nlargest(2)"
   ]
  },
  {
   "cell_type": "code",
   "execution_count": 7,
   "id": "216d2de6-f210-48d6-aa2b-29371a7c4115",
   "metadata": {},
   "outputs": [
    {
     "data": {
      "text/plain": [
       "11    34\n",
       "4     30\n",
       "12    25\n",
       "1     20\n",
       "dtype: int64"
      ]
     },
     "execution_count": 7,
     "metadata": {},
     "output_type": "execute_result"
    }
   ],
   "source": [
    "s.nlargest(4)"
   ]
  },
  {
   "cell_type": "code",
   "execution_count": 13,
   "id": "dfe2f359-151f-435c-bd74-a004b32557e5",
   "metadata": {},
   "outputs": [
    {
     "data": {
      "text/plain": [
       "11    34\n",
       "4     30\n",
       "dtype: int64"
      ]
     },
     "execution_count": 13,
     "metadata": {},
     "output_type": "execute_result"
    }
   ],
   "source": [
    "s.nlargest(2).head()"
   ]
  },
  {
   "cell_type": "code",
   "execution_count": 15,
   "id": "f797338c-b927-4dcd-ae26-baa79a4a8160",
   "metadata": {},
   "outputs": [
    {
     "data": {
      "text/plain": [
       "0    10\n",
       "1    20\n",
       "2    10\n",
       "3    20\n",
       "4    30\n",
       "dtype: int64"
      ]
     },
     "execution_count": 15,
     "metadata": {},
     "output_type": "execute_result"
    }
   ],
   "source": [
    "s.head()"
   ]
  },
  {
   "cell_type": "code",
   "execution_count": 17,
   "id": "58b378b7-0e63-4866-8338-ca296959ae63",
   "metadata": {},
   "outputs": [
    {
     "data": {
      "text/plain": [
       "9     17\n",
       "10    15\n",
       "11    34\n",
       "12    25\n",
       "13    12\n",
       "dtype: int64"
      ]
     },
     "execution_count": 17,
     "metadata": {},
     "output_type": "execute_result"
    }
   ],
   "source": [
    "s.tail()"
   ]
  },
  {
   "cell_type": "code",
   "execution_count": 19,
   "id": "74c6e043-1c0d-443a-b2e6-9f9c4c47375a",
   "metadata": {},
   "outputs": [
    {
     "data": {
      "text/plain": [
       "0     10\n",
       "2     10\n",
       "6     10\n",
       "13    12\n",
       "5     15\n",
       "dtype: int64"
      ]
     },
     "execution_count": 19,
     "metadata": {},
     "output_type": "execute_result"
    }
   ],
   "source": [
    "s.nsmallest()"
   ]
  },
  {
   "cell_type": "code",
   "execution_count": 21,
   "id": "a266e229-6013-477a-a6e4-473f21fb1950",
   "metadata": {},
   "outputs": [
    {
     "data": {
      "text/plain": [
       "0    10\n",
       "2    10\n",
       "dtype: int64"
      ]
     },
     "execution_count": 21,
     "metadata": {},
     "output_type": "execute_result"
    }
   ],
   "source": [
    "s.nsmallest(2)"
   ]
  },
  {
   "cell_type": "code",
   "execution_count": 25,
   "id": "a7c26b6b-16ba-4e25-98eb-c5f10131544a",
   "metadata": {},
   "outputs": [
    {
     "data": {
      "text/plain": [
       "10"
      ]
     },
     "execution_count": 25,
     "metadata": {},
     "output_type": "execute_result"
    }
   ],
   "source": [
    "s.nsmallest(2)[0]"
   ]
  },
  {
   "cell_type": "code",
   "execution_count": 29,
   "id": "9849a47b-f351-4287-9bc4-bab326ab8d11",
   "metadata": {},
   "outputs": [
    {
     "data": {
      "text/plain": [
       "10"
      ]
     },
     "execution_count": 29,
     "metadata": {},
     "output_type": "execute_result"
    }
   ],
   "source": [
    "s.nsmallest(2)[2]"
   ]
  },
  {
   "cell_type": "code",
   "execution_count": null,
   "id": "70014d41-05d1-4ac7-94eb-3f588889e819",
   "metadata": {},
   "outputs": [],
   "source": []
  }
 ],
 "metadata": {
  "kernelspec": {
   "display_name": "Python 3 (ipykernel)",
   "language": "python",
   "name": "python3"
  },
  "language_info": {
   "codemirror_mode": {
    "name": "ipython",
    "version": 3
   },
   "file_extension": ".py",
   "mimetype": "text/x-python",
   "name": "python",
   "nbconvert_exporter": "python",
   "pygments_lexer": "ipython3",
   "version": "3.12.4"
  }
 },
 "nbformat": 4,
 "nbformat_minor": 5
}
