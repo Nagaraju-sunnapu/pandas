{
 "cells": [
  {
   "cell_type": "markdown",
   "id": "4acfe3d9-68c7-4f79-936d-59f19d5b0eac",
   "metadata": {},
   "source": [
    "# Attributes of dataframe"
   ]
  },
  {
   "cell_type": "code",
   "execution_count": 4,
   "id": "80d4c201-457f-4591-a409-f17571aff3af",
   "metadata": {},
   "outputs": [
    {
     "name": "stdout",
     "output_type": "stream",
     "text": [
      "         NAME  RANK  MARKS\n",
      "RowA   Rossum     1     90\n",
      "RowB   Travis     3     80\n",
      "RowC    Kinni     2     85\n",
      "RowD  JHunter     4     79\n",
      "RowE   Dennis     5     77\n"
     ]
    }
   ],
   "source": [
    "# creating the dataframe\n",
    "import pandas as pd\n",
    "stud=[[\"Rossum\",1,90],[\"Travis\",3,80],[\"Kinni\",2,85],[\"JHunter\",4,79],[\"Dennis\",5,77]]\n",
    "df=pd.DataFrame(stud,index=[\"Row\"+str(i) for i in \"ABCDE\"],columns=[\"NAME\",\"RANK\",\"MARKS\"])\n",
    "print(df)"
   ]
  },
  {
   "cell_type": "markdown",
   "id": "2387c992-9e6a-405f-aec7-dab3694e8b4c",
   "metadata": {},
   "source": [
    "# 1.index"
   ]
  },
  {
   "cell_type": "code",
   "execution_count": 6,
   "id": "8234220b-68b8-4d0c-964e-ec6e65eaaaaf",
   "metadata": {},
   "outputs": [
    {
     "name": "stdout",
     "output_type": "stream",
     "text": [
      "Index(['RowA', 'RowB', 'RowC', 'RowD', 'RowE'], dtype='object')\n"
     ]
    }
   ],
   "source": [
    "# attribute name:index-->gives row index names\n",
    "#syntax:dataframeobject.index\n",
    "print(df.index)"
   ]
  },
  {
   "cell_type": "markdown",
   "id": "b44f5d4d-3add-4980-a505-9ab415c18b92",
   "metadata": {},
   "source": [
    "# 2.columns"
   ]
  },
  {
   "cell_type": "code",
   "execution_count": 8,
   "id": "f0315b7d-1988-4c4e-9912-d8eb8ef270a8",
   "metadata": {},
   "outputs": [
    {
     "name": "stdout",
     "output_type": "stream",
     "text": [
      "Index(['NAME', 'RANK', 'MARKS'], dtype='object')\n"
     ]
    }
   ],
   "source": [
    "# attribute name:columns-->gives columns index names\n",
    "#syntax:dataframeobject.columns\n",
    "print(df.columns)"
   ]
  },
  {
   "cell_type": "markdown",
   "id": "91694c5c-9ca1-4f04-9c3f-3ac2eb6ed406",
   "metadata": {},
   "source": [
    "# 3.axes"
   ]
  },
  {
   "cell_type": "code",
   "execution_count": 10,
   "id": "2be73f28-5976-4729-aecb-637a31b0c122",
   "metadata": {},
   "outputs": [
    {
     "name": "stdout",
     "output_type": "stream",
     "text": [
      "[Index(['RowA', 'RowB', 'RowC', 'RowD', 'RowE'], dtype='object'), Index(['NAME', 'RANK', 'MARKS'], dtype='object')]\n"
     ]
    }
   ],
   "source": [
    "# attribute name:axes-->axes gives the combination of row index and columns index names\n",
    "#syntax:dataframeobject.axes\n",
    "print(df.axes)"
   ]
  },
  {
   "cell_type": "code",
   "execution_count": 14,
   "id": "745bd653-793d-46af-87d3-2d774e2681dc",
   "metadata": {},
   "outputs": [
    {
     "name": "stdout",
     "output_type": "stream",
     "text": [
      "[Index(['RowA', 'RowB', 'RowC', 'RowD', 'RowE'], dtype='object'), Index(['NAME', 'RANK', 'MARKS'], dtype='object')]\n",
      "==================================================\n",
      "Index(['RowA', 'RowB', 'RowC', 'RowD', 'RowE'], dtype='object')\n",
      "--------------------------------------------------\n",
      "Index(['NAME', 'RANK', 'MARKS'], dtype='object')\n",
      "--------------------------------------------------\n",
      "==================================================\n"
     ]
    }
   ],
   "source": [
    "print(df.axes)\n",
    "print(\"=\"*50)\n",
    "for axis in df.axes:\n",
    "    print(axis)\n",
    "    print(\"-\"*50)\n",
    "print(\"=\"*50)"
   ]
  },
  {
   "cell_type": "markdown",
   "id": "ee931d29-26bf-4085-bfd1-9d6c9c222375",
   "metadata": {},
   "source": [
    "# 4.dtypes"
   ]
  },
  {
   "cell_type": "code",
   "execution_count": 22,
   "id": "485a4727-5f9c-4c8d-99da-2f054dffdce2",
   "metadata": {},
   "outputs": [
    {
     "name": "stdout",
     "output_type": "stream",
     "text": [
      "         NAME  RANK  MARKS\n",
      "RowA   Rossum     1     90\n",
      "RowB   Travis     3     80\n",
      "RowC    Kinni     2     85\n",
      "RowD  JHunter     4     79\n",
      "RowE   Dennis     5     77\n",
      "--------------------------------------------------\n",
      "NAME     object\n",
      "RANK      int64\n",
      "MARKS     int64\n",
      "dtype: object\n"
     ]
    }
   ],
   "source": [
    "# attribute name:dtypes-->gives the individual data types of columns and overall data type of df\n",
    "#syntax:dataframeobject.dtypes\n",
    "print(df)\n",
    "print(\"-\"*50)\n",
    "print(df.dtypes)"
   ]
  },
  {
   "cell_type": "markdown",
   "id": "ec754f51-c78c-4b4f-9a80-d8da19234fa7",
   "metadata": {},
   "source": [
    "# 5.size"
   ]
  },
  {
   "cell_type": "code",
   "execution_count": 27,
   "id": "f79e25e8-408e-4b5e-bf9c-d63d297e877a",
   "metadata": {},
   "outputs": [
    {
     "name": "stdout",
     "output_type": "stream",
     "text": [
      "         NAME  RANK  MARKS\n",
      "RowA   Rossum     1     90\n",
      "RowB   Travis     3     80\n",
      "RowC    Kinni     2     85\n",
      "RowD  JHunter     4     79\n",
      "RowE   Dennis     5     77\n",
      "==================================================\n",
      "number of enties with row X columns= 15\n"
     ]
    }
   ],
   "source": [
    "# attribute name:size--.size gives the number of rows and columns\n",
    "#syntax:dataframeobject.size\n",
    "print(df)\n",
    "print(\"=\"*50)\n",
    "print(\"number of enties with row X columns=\",df.size)"
   ]
  },
  {
   "cell_type": "code",
   "execution_count": 32,
   "id": "902e1a86-fce6-4fbf-9c5b-80dfb287dc61",
   "metadata": {},
   "outputs": [
    {
     "name": "stdout",
     "output_type": "stream",
     "text": [
      "         NAME  RANK  MARKS\n",
      "RowA   Rossum     1     90\n",
      "RowB   Travis     3     80\n",
      "RowC    Kinni     2     85\n",
      "RowD  JHunter     4     79\n",
      "RowE   Dennis     5     77\n",
      "==================================================\n",
      "number of entires with 5 rows x 3 columns=15\n"
     ]
    }
   ],
   "source": [
    "# attribute name:size-->size gives the number of rows and columns\n",
    "#syntax:dataframeobject.size\n",
    "print(df)\n",
    "print(\"=\"*50)\n",
    "print(\"number of entires with {} rows x {} columns={}\".format(df.shape[0],df.shape[1],df.size))"
   ]
  },
  {
   "cell_type": "markdown",
   "id": "e3d8c18b-d813-446f-8a49-85a52143785b",
   "metadata": {},
   "source": [
    "# 6.shape"
   ]
  },
  {
   "cell_type": "code",
   "execution_count": 30,
   "id": "e1a93624-5a89-4b7a-a3fd-de0a7003846b",
   "metadata": {},
   "outputs": [
    {
     "name": "stdout",
     "output_type": "stream",
     "text": [
      "         NAME  RANK  MARKS\n",
      "RowA   Rossum     1     90\n",
      "RowB   Travis     3     80\n",
      "RowC    Kinni     2     85\n",
      "RowD  JHunter     4     79\n",
      "RowE   Dennis     5     77\n",
      "--------------------------------------------------\n",
      "(5, 3)\n"
     ]
    }
   ],
   "source": [
    "# attribute name:shape-->gives (rows,columns)\n",
    "#syntax:dataframeobject.shape\n",
    "print(df)\n",
    "print(\"-\"*50)\n",
    "print(df.shape)"
   ]
  },
  {
   "cell_type": "markdown",
   "id": "361fcb8d-14b0-41e0-9e51-9a54a75746fa",
   "metadata": {},
   "source": [
    "# 7.ndim"
   ]
  },
  {
   "cell_type": "code",
   "execution_count": 35,
   "id": "094da3a3-50d1-44a4-9739-f4f95e4712df",
   "metadata": {},
   "outputs": [
    {
     "name": "stdout",
     "output_type": "stream",
     "text": [
      "         NAME  RANK  MARKS\n",
      "RowA   Rossum     1     90\n",
      "RowB   Travis     3     80\n",
      "RowC    Kinni     2     85\n",
      "RowD  JHunter     4     79\n",
      "RowE   Dennis     5     77\n",
      "--------------------------------------------------\n",
      "dimension of the dataframe= 2\n"
     ]
    }
   ],
   "source": [
    "# attribute name:ndim-->gives dimension of the dataframe\n",
    "#syntax:dataframeobject.ndim\n",
    "print(df)\n",
    "print(\"-\"*50)\n",
    "print(\"dimension of the dataframe=\",df.ndim)"
   ]
  },
  {
   "cell_type": "markdown",
   "id": "ae608343-4f7f-445a-9b36-43414b4ad3eb",
   "metadata": {},
   "source": [
    "# 8.empty"
   ]
  },
  {
   "cell_type": "code",
   "execution_count": 38,
   "id": "2fc81668-7988-4e9d-bfd3-a5cc5ed86737",
   "metadata": {},
   "outputs": [
    {
     "name": "stdout",
     "output_type": "stream",
     "text": [
      "         NAME  RANK  MARKS\n",
      "RowA   Rossum     1     90\n",
      "RowB   Travis     3     80\n",
      "RowC    Kinni     2     85\n",
      "RowD  JHunter     4     79\n",
      "RowE   Dennis     5     77\n",
      "--------------------------------------------------\n",
      "False\n"
     ]
    }
   ],
   "source": [
    "# attribute name:empty-->gives boolean values (True in the case of empty or False in the case of non-empty)\n",
    "#syntax:dataframeobject.empty\n",
    "print(df)\n",
    "print(\"-\"*50)\n",
    "print(df.empty)"
   ]
  },
  {
   "cell_type": "code",
   "execution_count": 42,
   "id": "447b2a1a-0a29-44d5-b8e5-1ca31968855b",
   "metadata": {},
   "outputs": [
    {
     "name": "stdout",
     "output_type": "stream",
     "text": [
      "Empty DataFrame\n",
      "Columns: []\n",
      "Index: []\n",
      "--------------------------------------------------\n",
      "True\n"
     ]
    }
   ],
   "source": [
    "# creat one empty dataframe \n",
    "d={}\n",
    "df1=pd.DataFrame(d)\n",
    "print(df1)\n",
    "print(\"-\"*50)\n",
    "print(df1.empty)"
   ]
  },
  {
   "cell_type": "markdown",
   "id": "d4a4d9c9-53d6-41ca-b868-c1c13d2d97bc",
   "metadata": {},
   "source": [
    "# 9.values"
   ]
  },
  {
   "cell_type": "code",
   "execution_count": 47,
   "id": "9b282ff9-1f3a-42bf-8b0d-15ed2d70f2a6",
   "metadata": {},
   "outputs": [
    {
     "name": "stdout",
     "output_type": "stream",
     "text": [
      "         NAME  RANK  MARKS\n",
      "RowA   Rossum     1     90\n",
      "RowB   Travis     3     80\n",
      "RowC    Kinni     2     85\n",
      "RowD  JHunter     4     79\n",
      "RowE   Dennis     5     77\n",
      "==================================================\n",
      "dataset i dataframe\n",
      "[['Rossum' 1 90]\n",
      " ['Travis' 3 80]\n",
      " ['Kinni' 2 85]\n",
      " ['JHunter' 4 79]\n",
      " ['Dennis' 5 77]]\n"
     ]
    }
   ],
   "source": [
    "# attribute name:values-->gives dataset of the dataframe in the form of list in list\n",
    "#syntax:dataframeobject.values\n",
    "print(df)\n",
    "print(\"=\"*50)\n",
    "print(\"dataset i dataframe\")\n",
    "print(df.values)"
   ]
  },
  {
   "cell_type": "code",
   "execution_count": 51,
   "id": "d11f0c3f-fa61-48b8-875e-df42b525c512",
   "metadata": {},
   "outputs": [
    {
     "name": "stdout",
     "output_type": "stream",
     "text": [
      "         NAME  RANK  MARKS\n",
      "RowA   Rossum     1     90\n",
      "RowB   Travis     3     80\n",
      "RowC    Kinni     2     85\n",
      "RowD  JHunter     4     79\n",
      "RowE   Dennis     5     77\n",
      "--------------------------------------------------\n",
      "dataset in dataframe\n",
      "\tRossum \t1 \t90 \n",
      "\tTravis \t3 \t80 \n",
      "\tKinni \t2 \t85 \n",
      "\tJHunter \t4 \t79 \n",
      "\tDennis \t5 \t77 \n"
     ]
    }
   ],
   "source": [
    "print(df)\n",
    "print(\"-\"*50)\n",
    "print(\"dataset in dataframe\")\n",
    "for row in df.values:\n",
    "    for val in row:\n",
    "        print(\"\\t{}\".format(val),end=\" \")\n",
    "    print()"
   ]
  },
  {
   "cell_type": "markdown",
   "id": "f787f897-29c1-4973-9a81-65f76e535851",
   "metadata": {},
   "source": [
    "# 10.T(Trancepose)"
   ]
  },
  {
   "cell_type": "code",
   "execution_count": 54,
   "id": "b785fcaa-7171-412d-84f9-a16f743ed83c",
   "metadata": {},
   "outputs": [
    {
     "name": "stdout",
     "output_type": "stream",
     "text": [
      "--------------------------------------------------\n",
      "original dataframe\n",
      "--------------------------------------------------\n",
      "         NAME  RANK  MARKS\n",
      "RowA   Rossum     1     90\n",
      "RowB   Travis     3     80\n",
      "RowC    Kinni     2     85\n",
      "RowD  JHunter     4     79\n",
      "RowE   Dennis     5     77\n",
      "--------------------------------------------------\n",
      "Tranceposed Dataframe\n",
      "--------------------------------------------------\n",
      "         RowA    RowB   RowC     RowD    RowE\n",
      "NAME   Rossum  Travis  Kinni  JHunter  Dennis\n",
      "RANK        1       3      2        4       5\n",
      "MARKS      90      80     85       79      77\n",
      "--------------------------------------------------\n"
     ]
    }
   ],
   "source": [
    "# attribute name:T-->gives tanspose of dataframe(roe becomes columns,columns becomes rows)\n",
    "#syntax:dataframeobject.T\n",
    "print(\"-\"*50)\n",
    "print(\"original dataframe\")\n",
    "print(\"-\"*50)\n",
    "print(df)\n",
    "print(\"-\"*50)\n",
    "print(\"Tranceposed Dataframe\")\n",
    "print(\"-\"*50)\n",
    "print(df.T)\n",
    "print(\"-\"*50)"
   ]
  },
  {
   "cell_type": "code",
   "execution_count": 56,
   "id": "d37cb3b4-a1b7-4f3f-b9eb-a748cec981c3",
   "metadata": {},
   "outputs": [
    {
     "name": "stdout",
     "output_type": "stream",
     "text": [
      "         NAME  RANK  MARKS\n",
      "RowA   Rossum     1     90\n",
      "RowB   Travis     3     80\n",
      "RowC    Kinni     2     85\n",
      "RowD  JHunter     4     79\n",
      "RowE   Dennis     5     77\n"
     ]
    }
   ],
   "source": [
    "print(df)"
   ]
  },
  {
   "cell_type": "code",
   "execution_count": null,
   "id": "caca8553-d160-4dc8-a324-d0b6c7e93bc6",
   "metadata": {},
   "outputs": [],
   "source": []
  }
 ],
 "metadata": {
  "kernelspec": {
   "display_name": "Python 3 (ipykernel)",
   "language": "python",
   "name": "python3"
  },
  "language_info": {
   "codemirror_mode": {
    "name": "ipython",
    "version": 3
   },
   "file_extension": ".py",
   "mimetype": "text/x-python",
   "name": "python",
   "nbconvert_exporter": "python",
   "pygments_lexer": "ipython3",
   "version": "3.12.4"
  }
 },
 "nbformat": 4,
 "nbformat_minor": 5
}
